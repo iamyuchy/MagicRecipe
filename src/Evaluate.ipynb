{
 "cells": [
  {
   "cell_type": "code",
   "execution_count": 18,
   "metadata": {},
   "outputs": [
    {
     "name": "stderr",
     "output_type": "stream",
     "text": [
      "[nltk_data] Downloading package punkt to\n",
      "[nltk_data]     /home/ct2020dl5787/nltk_data...\n",
      "[nltk_data]   Package punkt is already up-to-date!\n",
      "[nltk_data] Downloading package wordnet to\n",
      "[nltk_data]     /home/ct2020dl5787/nltk_data...\n",
      "[nltk_data]   Package wordnet is already up-to-date!\n"
     ]
    }
   ],
   "source": [
    "from nltk.stem import PorterStemmer\n",
    "import pickle\n",
    "import nltk\n",
    "nltk.download('punkt')\n",
    "nltk.download('wordnet')\n",
    "from nltk.tokenize import word_tokenize \n",
    "import string\n",
    "from nltk.translate.meteor_score import meteor_score"
   ]
  },
  {
   "cell_type": "code",
   "execution_count": 19,
   "metadata": {},
   "outputs": [],
   "source": [
    "def get_ingred_f1(pred, label):\n",
    "    '''\n",
    "    input: \n",
    "        pred: a list of predicted ingredients\n",
    "        label: a list of label ingredients\n",
    "    output: \n",
    "        F-1 score of the prediction\n",
    "    \n",
    "    i.e.  \n",
    "    in: \n",
    "        pred = [\"tomato\", \"sugar\", \"beef\"]\n",
    "        label = [\"potato\", \"tomato\"]\n",
    "     \n",
    "    out: \n",
    "        0.4\n",
    "    '''\n",
    "    intersection = list(set(pred) & set(label))\n",
    "    precision = len(intersection) / len(pred)\n",
    "    recall = len(intersection) / len(label)\n",
    "    if precision + recall == 0:\n",
    "        return 0\n",
    "    f1 = 2 * precision * recall / (precision + recall)\n",
    "    return f1\n",
    "\n",
    "\n",
    "def get_ingred_IOU(pred, label):\n",
    "    '''\n",
    "    input: \n",
    "        pred: a list of predicted ingredients\n",
    "        label: a list of label ingredients\n",
    "    output: \n",
    "        IOU of the prediction\n",
    "    \n",
    "    i.e.  \n",
    "    in: \n",
    "        pred = [\"tomato\", \"sugar\", \"beef\"]\n",
    "        label = [\"potato\", \"tomato\"]\n",
    "     \n",
    "    out: \n",
    "        0.25\n",
    "    '''\n",
    "    intersection = len(list(set(pred) & set(label)))\n",
    "    union = len(list(set(pred) | set(label)))\n",
    "    iou = intersection / union\n",
    "    return iou\n",
    "\n",
    "\n",
    "\n",
    "\n",
    "\n",
    "def get_bleu_n_score(pred, label, n = 4):\n",
    "    \n",
    "    '''\n",
    "    TODO: STEM not added\n",
    "    input: \n",
    "        pred: One string of predict recipe \n",
    "        label: One string of reference recipe\n",
    "        n(optional): up to n-gram.\n",
    "    output: \n",
    "        bleu score\n",
    "    \n",
    "    i.e.  \n",
    "    in: \n",
    "        pred = \"Add the buttter\"\n",
    "        label = \"Add half butter and mix well\"\n",
    "    out: \n",
    "        0.25\n",
    "    '''\n",
    "    weights = [1/n] * n\n",
    "    pred_list = pred.translate(str.maketrans('', '', string.punctuation)).split()\n",
    "    pred_list = [ps.stem(word) for word in pred_list]\n",
    "    label_list = label.translate(str.maketrans('', '', string.punctuation)).split()\n",
    "    label_list = [ps.stem(word) for word in label_list]\n",
    "    BLEUscore = nltk.translate.bleu_score.sentence_bleu([label_list], pred_list, weights)\n",
    "    return BLEUscore\n",
    "\n",
    "\n",
    "\n",
    "\n",
    "def get_meteor_score(pred, label):\n",
    "    return meteor_score([label], pred)\n",
    "\n",
    "def read_ingre_vocab(filepath):\n",
    "    '''\n",
    "    input: \n",
    "        filepath of recipe1m_vocab_ingrs.pkl\n",
    "    output: \n",
    "        a list of stemed ingre\n",
    "    \n",
    "    i.e.  \n",
    "    in: \n",
    "        \"4 large baking potatoes (2 lb./900 g) Safeway 2 pkg For $5.00 thru 02/09\"\"\n",
    "    out: \n",
    "        [\"potato\"]\n",
    "    '''\n",
    "    ingre = pickle.load(open(filepath, \"rb\" ))\n",
    "    result = []\n",
    "    for i in range(1, len(ingre.idx2word)):\n",
    "        word = min(ingre.idx2word[i], key=len)\n",
    "        if \"_\" not in word:\n",
    "            result.append(ps.stem(word))\n",
    "    return result"
   ]
  },
  {
   "cell_type": "code",
   "execution_count": 20,
   "metadata": {},
   "outputs": [],
   "source": [
    "class Vocabulary(object):\n",
    "    \"\"\"Simple vocabulary wrapper.\"\"\"\n",
    "    def __init__(self):\n",
    "        self.word2idx = {}\n",
    "        self.idx2word = {}\n",
    "        self.idx = 0\n",
    "\n",
    "    def add_word(self, word, idx=None):\n",
    "        if idx is None:\n",
    "            if not word in self.word2idx:\n",
    "                self.word2idx[word] = self.idx\n",
    "                self.idx2word[self.idx] = word\n",
    "                self.idx += 1\n",
    "            return self.idx\n",
    "        else:\n",
    "            if not word in self.word2idx:\n",
    "                self.word2idx[word] = idx\n",
    "                if idx in self.idx2word.keys():\n",
    "                    self.idx2word[idx].append(word)\n",
    "                else:\n",
    "                    self.idx2word[idx] = [word]\n",
    "\n",
    "                return idx\n",
    "\n",
    "    def __call__(self, word):\n",
    "        if not word in self.word2idx:\n",
    "            return self.word2idx['<pad>']\n",
    "        return self.word2idx[word]\n",
    "\n",
    "    def __len__(self):\n",
    "        return len(self.idx2word)\n",
    "\n"
   ]
  },
  {
   "cell_type": "code",
   "execution_count": 21,
   "metadata": {},
   "outputs": [],
   "source": [
    "def score_ingre_f1(results, ref):\n",
    "    '''\n",
    "    input: \n",
    "        results: a list of candidates ingre list\n",
    "        ref: a list of reference ingre\n",
    "    output: \n",
    "        f1 score\n",
    "    '''\n",
    "    score = 0\n",
    "    for result in results:\n",
    "        score = max(score, get_ingred_f1(result, ref))\n",
    "            \n",
    "    return score\n",
    "\n",
    "\n",
    "def score_ingre_IOU(results, ref):\n",
    "    '''\n",
    "    input: \n",
    "        results: a list of candidates ingre list\n",
    "        ref: a list of reference ingre\n",
    "    output: \n",
    "        IOU score\n",
    "    '''\n",
    "    score = 0\n",
    "    for result in results:\n",
    "        score = max(score, get_ingred_IOU(result, ref))\n",
    "            \n",
    "    return score\n",
    "\n",
    "def show_ingre(df, i):\n",
    "    print (df.iloc[i][\"ingredients\"])\n",
    "    print (df.iloc[i][\"generate_ingre\"])\n",
    "    \n",
    "    \n",
    "    \n",
    "def score_recipe_meteor(generate_recipes, ref):\n",
    "    score = 0\n",
    "    ref = \" \".join(ref)\n",
    "    for recipe in generate_recipes:\n",
    "        joined_recipe = \" \".join(recipe)\n",
    "        score = max(score, get_meteor_score(joined_recipe, ref))\n",
    "    return score\n",
    "\n",
    "\n",
    "def score_blue_n(generate_recipes, ref, n):\n",
    "    score = 0\n",
    "    ref = \" \".join(ref)\n",
    "    for recipe in generate_recipes:\n",
    "        joined_recipe = \" \".join(recipe)\n",
    "        score = max(score, get_bleu_n_score(joined_recipe, ref, n))\n",
    "    return score\n",
    "\n",
    "\n",
    "\n",
    "\n",
    "\n",
    "def get_tokenized_and_stemmed_list(ingre_lists, ingre_vocab):\n",
    "    '''\n",
    "    input: \n",
    "        a list of ingredient str\n",
    "        a list of stemmed reference ingre vocab\n",
    "    output: \n",
    "        a set of indredient\n",
    "    \n",
    "    i.e.  \n",
    "    in: \n",
    "        \"4 large baking potatoes (2 lb./900 g) Safeway 2 pkg For $5.00 thru 02/09\"\"\n",
    "    out: \n",
    "        [\"potato\"]\n",
    "    '''\n",
    "    result = set()\n",
    "    for ingre_list in ingre_lists:\n",
    "        words = word_tokenize(ingre_list) \n",
    "        for word in words: \n",
    "            result.add(ps.stem(word))\n",
    "            \n",
    "    return result & set(ingre_vocab)\n",
    "\n",
    "\n",
    "def is_recipe_validate(generate_score):\n",
    "    count = 0\n",
    "    for j in range (1):\n",
    "#         if results.iloc[i][\"generate_score\"][j][0] == False:\n",
    "        if generate_score[j][0] == False:\n",
    "            count += 1\n",
    "    if count == 4:\n",
    "        return False\n",
    "    return True"
   ]
  },
  {
   "cell_type": "code",
   "execution_count": null,
   "metadata": {},
   "outputs": [],
   "source": []
  },
  {
   "cell_type": "code",
   "execution_count": null,
   "metadata": {},
   "outputs": [],
   "source": []
  },
  {
   "cell_type": "code",
   "execution_count": 6,
   "metadata": {},
   "outputs": [],
   "source": [
    "# import string\n",
    "# \"apple?! jfs\".translate(str.maketrans('', '', string.punctuation)).split()"
   ]
  },
  {
   "cell_type": "code",
   "execution_count": null,
   "metadata": {},
   "outputs": [],
   "source": []
  },
  {
   "cell_type": "code",
   "execution_count": null,
   "metadata": {},
   "outputs": [],
   "source": []
  },
  {
   "cell_type": "code",
   "execution_count": null,
   "metadata": {},
   "outputs": [],
   "source": []
  },
  {
   "cell_type": "code",
   "execution_count": 45,
   "metadata": {},
   "outputs": [],
   "source": [
    "ps = PorterStemmer()\n",
    "# results = pickle.load(open( \"df_recipe1023_all.pkl\", \"rb\" ))\n",
    "# results = pickle.load(open( \"chinese1720sample_allinfo.pkl\", \"rb\" ))\n",
    "results = pickle.load(open( \"output/transform.pkl\", \"rb\" ))\n",
    "stemmed_ingre = read_ingre_vocab(\"../data/recipe1m_vocab_ingrs.pkl\")\n",
    "df_origin = pickle.load(open( \"df_recipe1023_all.pkl\", \"rb\" ))\n",
    "df_ablation = pickle.load(open( \"output/transform.pkl\", \"rb\" ))\n",
    "true_ingre_dict = pickle.load(open( \"true_ingre_1k.pickle\", \"rb\" ))"
   ]
  },
  {
   "cell_type": "code",
   "execution_count": null,
   "metadata": {},
   "outputs": [],
   "source": []
  },
  {
   "cell_type": "code",
   "execution_count": null,
   "metadata": {},
   "outputs": [],
   "source": []
  },
  {
   "cell_type": "code",
   "execution_count": 38,
   "metadata": {},
   "outputs": [],
   "source": [
    "results = results.rename(columns={'true_ingredients':'ingredients'}, inplace=False)\n"
   ]
  },
  {
   "cell_type": "code",
   "execution_count": 39,
   "metadata": {},
   "outputs": [
    {
     "data": {
      "text/plain": [
       "'http://img.sndimg.com/food/image/upload/w_512,h_512,c_fit,fl_progressive,q_95/v1/img/recipes/47/91/49/picaYYmb9.jpg'"
      ]
     },
     "execution_count": 39,
     "metadata": {},
     "output_type": "execute_result"
    }
   ],
   "source": [
    "results.iloc[0][\"url\"]"
   ]
  },
  {
   "cell_type": "code",
   "execution_count": 11,
   "metadata": {},
   "outputs": [],
   "source": []
  },
  {
   "cell_type": "code",
   "execution_count": 12,
   "metadata": {},
   "outputs": [],
   "source": []
  },
  {
   "cell_type": "code",
   "execution_count": null,
   "metadata": {},
   "outputs": [],
   "source": []
  },
  {
   "cell_type": "code",
   "execution_count": 40,
   "metadata": {},
   "outputs": [
    {
     "data": {
      "text/plain": [
       "[[True, 0.5567010309278351],\n",
       " [True, 0.6268656716417911],\n",
       " [True, 0.52],\n",
       " [True, 0.5196850393700787]]"
      ]
     },
     "execution_count": 40,
     "metadata": {},
     "output_type": "execute_result"
    }
   ],
   "source": [
    "results.iloc[2][\"generate_score\"]"
   ]
  },
  {
   "cell_type": "code",
   "execution_count": null,
   "metadata": {},
   "outputs": [],
   "source": []
  },
  {
   "cell_type": "code",
   "execution_count": null,
   "metadata": {},
   "outputs": [],
   "source": []
  },
  {
   "cell_type": "code",
   "execution_count": 64,
   "metadata": {},
   "outputs": [],
   "source": [
    "def show_ablation_study(df_origin, df_ablation, i, true_ingre_dict):\n",
    "    # Compare two ingre\n",
    "    predicted_ingre = df_origin.iloc[i][\"generate_ingre\"][0]\n",
    "    true_ingre = true_ingre_dict[df_origin.iloc[i][\"url\"]]\n",
    "    \n",
    "    # Compare two instruction\n",
    "    generate_recipe_with_predicted_ingre = df_origin.iloc[i][\"generate_reci\"]\n",
    "    generate_recipe_with_true_ingre = df_ablation.iloc[i][\"generate_reci\"]\n",
    "    print(\"predicted_ingre-----------------------------------------\")\n",
    "    print(predicted_ingre)\n",
    "    print(\"true_ingre----------------------------------------------\")\n",
    "    print(true_ingre)\n",
    "    print(\"generate_recipe_with_predicted_ingre--------------------\")\n",
    "    print(generate_recipe_with_predicted_ingre)\n",
    "    print(\"generate_recipe_with_true_ingre-------------------------\")\n",
    "    print(generate_recipe_with_true_ingre)"
   ]
  },
  {
   "cell_type": "code",
   "execution_count": 89,
   "metadata": {},
   "outputs": [
    {
     "name": "stdout",
     "output_type": "stream",
     "text": [
      "predicted_ingre-----------------------------------------\n",
      "['potato', 'oil', 'pepper', 'squash', 'salt', 'onion']\n",
      "true_ingre----------------------------------------------\n",
      "['appl', 'broth', 'chicken', 'oil', 'oliv', 'parsley', 'onion', 'squash', 'crouton', 'thyme', 'cream']\n",
      "generate_recipe_with_predicted_ingre--------------------\n",
      "[['Preheat oven to 425 degrees f (220 degrees c).', 'Place sweet potatoes and onion in a large bowl.', 'Drizzle olive oil over the vegetables and toss to coat.', 'Spread vegetables onto a baking sheet.', 'Season with salt and pepper.', 'Roast in the preheated oven until vegetables are tender and lightly browned, about 45 minutes.'], ['Preheat the oven to 400.', 'Peel the squash and slice it diagonally into 1/4 inch cubes.', 'In a bowl, toss the squash and the onions with 2 teaspoons of the salt.', 'Spread into a single layer on a baking sheet and roast until the vegetables are browned and tender, 35 to 40 minutes.', 'Meanwhile, put the oil in a large skillet and heat over medium-high.', 'Add the squash and cook for 5 to 10 minutes, until it is golden brown on all sides.', 'Add the potatoes and the remaining salt and pepper; cook until the vegetables are browned, about 8 minutes longer.'], ['Preheat oven to 400f', \"Peel and cut the squash and onions into 1'' dice (about 1/4'').\", 'Toss in a large bowl with the olive oil.', 'Add salt and pepper to taste.', 'Toss and spread out on a baking sheet.', 'Roast until golden brown and tender, about 45 minutes.'], ['Preheat the oven 425 f and line a baking sheet with aluminum foil.', 'Toss the squash with the olive oil, then spread onto the prepared baking sheet.', 'Season with salt and pepper; spread evenly.', 'Roast in the preheated oven for 40 minutes, stirring halfway through.', 'Remove from oven and allow to cool.', 'Toss the sweet potatoes with the onions and serve warm.']]\n",
      "generate_recipe_with_true_ingre-------------------------\n",
      "[['Preheat oven to 400 degrees f (200 degrees c).', 'Place squash halves cut side down on a baking sheet.', 'Drizzle with olive oil and season with salt and pepper.', 'Roast in the preheated oven until tender, about 1 hour.'], ['Preheat oven to 350f and spray a large jelly roll pan with non-stick cooking spray.', 'Toss in the cubed sweet potato, and place into the pan.', 'Drizzle with the melted butter, sprinkle with the pepper, and salt, mix again.', 'Spread the sweet potato out in an even layer.', 'Bake in the oven for 30 to 45 minutes, or until tender.', 'Serve hot or warm.'], ['Preheat oven to 450f (230c).', 'Cut butternut squash into 1/2 inch thick slices and add to a bowl.', 'Toss well with olive oil and butter.', 'Season with salt and pepper, to taste.', 'Spread in a single layer on a cookie sheet and roast in the preheated oven for 20 minutes, tossing once, until tender and lightly browned.'], ['Preheat oven to 450.', 'Toss butternut squash and sweet potato chunks with 1 teaspoon olive oil and a generous pinch each of salt and pepper.', 'Arrange on a large rimmed baking sheet and place in oven.', 'Roast until squash and potatoes are tender when pierced with a fork, about 40 minutes.', 'While vegetables cook, melt butter in a small skillet over medium low heat.', 'Add roasted squash and toss to coat.', 'Season with salt and pepper, toss again and serve.']]\n"
     ]
    }
   ],
   "source": [
    "show_ablation_study(df_origin, df_ablation, 21, true_ingre_dict)"
   ]
  },
  {
   "cell_type": "code",
   "execution_count": 90,
   "metadata": {},
   "outputs": [
    {
     "data": {
      "text/plain": [
       "'http://img.sndimg.com/food/image/upload/w_512,h_512,c_fit,fl_progressive,q_95/v1/img/recipes/26/09/29/piclnaUDO.jpg'"
      ]
     },
     "execution_count": 90,
     "metadata": {},
     "output_type": "execute_result"
    }
   ],
   "source": [
    "df_origin.iloc[21][\"url\"]"
   ]
  },
  {
   "cell_type": "code",
   "execution_count": 63,
   "metadata": {},
   "outputs": [
    {
     "data": {
      "text/html": [
       "<div>\n",
       "<style scoped>\n",
       "    .dataframe tbody tr th:only-of-type {\n",
       "        vertical-align: middle;\n",
       "    }\n",
       "\n",
       "    .dataframe tbody tr th {\n",
       "        vertical-align: top;\n",
       "    }\n",
       "\n",
       "    .dataframe thead th {\n",
       "        text-align: right;\n",
       "    }\n",
       "</style>\n",
       "<table border=\"1\" class=\"dataframe\">\n",
       "  <thead>\n",
       "    <tr style=\"text-align: right;\">\n",
       "      <th></th>\n",
       "      <th>id</th>\n",
       "      <th>ingredients</th>\n",
       "      <th>instructions</th>\n",
       "      <th>url</th>\n",
       "      <th>generate_ingre</th>\n",
       "      <th>generate_reci</th>\n",
       "      <th>generate_title</th>\n",
       "      <th>generate_score</th>\n",
       "    </tr>\n",
       "  </thead>\n",
       "  <tbody>\n",
       "    <tr>\n",
       "      <th>0</th>\n",
       "      <td>00003a70b1</td>\n",
       "      <td>[2 12 cups milk, 1 12 cups water, 14 cup butte...</td>\n",
       "      <td>[Preheat oven to 350 degrees Fahrenheit., Spra...</td>\n",
       "      <td>http://img.sndimg.com/food/image/upload/w_512,...</td>\n",
       "      <td>[[cheese, onion, pepper, soup, milk, salt, but...</td>\n",
       "      <td>[[Preheat oven to 350 degrees f (175 degrees c...</td>\n",
       "      <td>[Cheesy hash browns casserole, Easy scalloped ...</td>\n",
       "      <td>[[True, 0.6138613861386139], [True, 0.74468085...</td>\n",
       "    </tr>\n",
       "    <tr>\n",
       "      <th>1</th>\n",
       "      <td>000075604a</td>\n",
       "      <td>[2 Chicken thighs, 2 tsp Kombu tea, 1 White pe...</td>\n",
       "      <td>[Pierce the skin of the chicken with a fork or...</td>\n",
       "      <td>https://img-global.cpcdn.com/001_recipes/58069...</td>\n",
       "      <td>[[chicken, pepper, salt, lemon, oil, onion, ju...</td>\n",
       "      <td>[[Preheat oven to 350 degrees f (175 degrees c...</td>\n",
       "      <td>[Lemon chicken, Easy lemon chicken, Lemon pepp...</td>\n",
       "      <td>[[True, 0.6756756756756757], [True, 0.57843137...</td>\n",
       "    </tr>\n",
       "    <tr>\n",
       "      <th>2</th>\n",
       "      <td>00007bfd16</td>\n",
       "      <td>[6 -8 cups fresh rhubarb, or, 6 -8 cups frozen...</td>\n",
       "      <td>[Put ingredients in a buttered 9 x 12 x 2-inch...</td>\n",
       "      <td>http://img.sndimg.com/food/image/upload/w_512,...</td>\n",
       "      <td>[[sugar, strawberries, water, egg, rhubarb, sa...</td>\n",
       "      <td>[[Preheat oven to 350 degrees f (175 degrees c...</td>\n",
       "      <td>[Strawberry rhubarb pie, Rhubarb pie, Rhubarb ...</td>\n",
       "      <td>[[True, 0.5567010309278351], [True, 0.62686567...</td>\n",
       "    </tr>\n",
       "    <tr>\n",
       "      <th>3</th>\n",
       "      <td>000095fc1d</td>\n",
       "      <td>[8 ounces, weight Light Fat Free Vanilla Yogur...</td>\n",
       "      <td>[Layer all ingredients in a serving dish.]</td>\n",
       "      <td>http://tastykitchen.com/recipes/wp-content/upl...</td>\n",
       "      <td>[[strawberries, yogurt, blueberries, honey, al...</td>\n",
       "      <td>[[Layer half each of the strawberries, blueber...</td>\n",
       "      <td>[Berry parfait, Fresh berry crunch parfait, St...</td>\n",
       "      <td>[[True, 0.7419354838709677], [True, 0.73076923...</td>\n",
       "    </tr>\n",
       "    <tr>\n",
       "      <th>4</th>\n",
       "      <td>0000b1e2b5</td>\n",
       "      <td>[1 teaspoon fennel seeds, 1 pound pork tenderl...</td>\n",
       "      <td>[Preheat oven to 350F with rack in middle., Cr...</td>\n",
       "      <td>http://assets.epicurious.com/photos/5609a4d662...</td>\n",
       "      <td>[[oil, pepper, potato, clove, salt, rosemary, ...</td>\n",
       "      <td>[[Preheat oven to 425 degrees f., In a large b...</td>\n",
       "      <td>[Roasted potatoes with herbs, Roasted garlic f...</td>\n",
       "      <td>[[True, 0.6833333333333333], [True, 0.58024691...</td>\n",
       "    </tr>\n",
       "    <tr>\n",
       "      <th>...</th>\n",
       "      <td>...</td>\n",
       "      <td>...</td>\n",
       "      <td>...</td>\n",
       "      <td>...</td>\n",
       "      <td>...</td>\n",
       "      <td>...</td>\n",
       "      <td>...</td>\n",
       "      <td>...</td>\n",
       "    </tr>\n",
       "    <tr>\n",
       "      <th>987</th>\n",
       "      <td>00a2b3f1e4</td>\n",
       "      <td>[4 whole Fresh Alaskan Halibut Fillets, Skin R...</td>\n",
       "      <td>[Salt and pepper the halibut steaks., Sprinkle...</td>\n",
       "      <td>http://tastykitchen.com/recipes/wp-content/upl...</td>\n",
       "      <td>[[pepper, tomato, chicken, cheese, oil, salt, ...</td>\n",
       "      <td>[[Preheat oven to 350 degrees f., In a large s...</td>\n",
       "      <td>[Chicken with tomatoes and feta, Tomato chicke...</td>\n",
       "      <td>[[True, 0.5384615384615384], [True, 0.45833333...</td>\n",
       "    </tr>\n",
       "    <tr>\n",
       "      <th>988</th>\n",
       "      <td>00a2dbf7a0</td>\n",
       "      <td>[4 c. low-sodium chicken broth, 2 c. arborio r...</td>\n",
       "      <td>[Heat oven to 400 degrees and arrange a rack i...</td>\n",
       "      <td>http://del.h-cdn.co/assets/cm/15/10/54f6786832...</td>\n",
       "      <td>[[oil, flour, salt, egg, baking_powder, sugar,...</td>\n",
       "      <td>[[Mix all ingredients together., Heat skillet ...</td>\n",
       "      <td>[Easy pancakes, Pancakes, Homemade yellow cake...</td>\n",
       "      <td>[[True, 0.7027027027027027], [True, 0.77272727...</td>\n",
       "    </tr>\n",
       "    <tr>\n",
       "      <th>989</th>\n",
       "      <td>00a31da144</td>\n",
       "      <td>[1/2 cup sugar, Juice of 1 orange (or 1/4 cup ...</td>\n",
       "      <td>[1., In a deep saucepan, bring the sugar, oran...</td>\n",
       "      <td>http://assets.epicurious.com/photos/560d99d97b...</td>\n",
       "      <td>[[sugar, beet, water, blueberries, salt, butte...</td>\n",
       "      <td>[[In a large saucepan, combine the beets, wate...</td>\n",
       "      <td>[Blueberry beets, Beet blueberry coulis, Beets...</td>\n",
       "      <td>[[True, 0.46218487394957986], [True, 0.4551724...</td>\n",
       "    </tr>\n",
       "    <tr>\n",
       "      <th>990</th>\n",
       "      <td>00a3285c25</td>\n",
       "      <td>[7 roma tomatoes, 1 tbsp chicken flavor bouill...</td>\n",
       "      <td>[put tomatoes in pot of water, boil until toma...</td>\n",
       "      <td>https://img-global.cpcdn.com/001_photo_reports...</td>\n",
       "      <td>[[cheese, onion, pepper, chicken, salt, tomato...</td>\n",
       "      <td>[[Preheat oven to 350, Mix all ingredients tog...</td>\n",
       "      <td>[Chicken enchiladas, Baked rotel chicken, Bake...</td>\n",
       "      <td>[[True, 0.7777777777777778], [True, 0.73809523...</td>\n",
       "    </tr>\n",
       "    <tr>\n",
       "      <th>991</th>\n",
       "      <td>00a33c5512</td>\n",
       "      <td>[10 pounds shortening, 10 pounds white sugar, ...</td>\n",
       "      <td>[Preheat a convection oven to 325 degrees F (1...</td>\n",
       "      <td>http://images.media-allrecipes.com/userphotos/...</td>\n",
       "      <td>[[sugar, flour, egg, butter, salt, baking_soda...</td>\n",
       "      <td>[[Preheat oven to 350 degrees f (175 degrees c...</td>\n",
       "      <td>[Peanut butter cookies, Brown sugar cookies, S...</td>\n",
       "      <td>[[True, 0.608], [False, 0.52], [True, 0.619469...</td>\n",
       "    </tr>\n",
       "  </tbody>\n",
       "</table>\n",
       "<p>992 rows × 8 columns</p>\n",
       "</div>"
      ],
      "text/plain": [
       "             id                                        ingredients  \\\n",
       "0    00003a70b1  [2 12 cups milk, 1 12 cups water, 14 cup butte...   \n",
       "1    000075604a  [2 Chicken thighs, 2 tsp Kombu tea, 1 White pe...   \n",
       "2    00007bfd16  [6 -8 cups fresh rhubarb, or, 6 -8 cups frozen...   \n",
       "3    000095fc1d  [8 ounces, weight Light Fat Free Vanilla Yogur...   \n",
       "4    0000b1e2b5  [1 teaspoon fennel seeds, 1 pound pork tenderl...   \n",
       "..          ...                                                ...   \n",
       "987  00a2b3f1e4  [4 whole Fresh Alaskan Halibut Fillets, Skin R...   \n",
       "988  00a2dbf7a0  [4 c. low-sodium chicken broth, 2 c. arborio r...   \n",
       "989  00a31da144  [1/2 cup sugar, Juice of 1 orange (or 1/4 cup ...   \n",
       "990  00a3285c25  [7 roma tomatoes, 1 tbsp chicken flavor bouill...   \n",
       "991  00a33c5512  [10 pounds shortening, 10 pounds white sugar, ...   \n",
       "\n",
       "                                          instructions  \\\n",
       "0    [Preheat oven to 350 degrees Fahrenheit., Spra...   \n",
       "1    [Pierce the skin of the chicken with a fork or...   \n",
       "2    [Put ingredients in a buttered 9 x 12 x 2-inch...   \n",
       "3           [Layer all ingredients in a serving dish.]   \n",
       "4    [Preheat oven to 350F with rack in middle., Cr...   \n",
       "..                                                 ...   \n",
       "987  [Salt and pepper the halibut steaks., Sprinkle...   \n",
       "988  [Heat oven to 400 degrees and arrange a rack i...   \n",
       "989  [1., In a deep saucepan, bring the sugar, oran...   \n",
       "990  [put tomatoes in pot of water, boil until toma...   \n",
       "991  [Preheat a convection oven to 325 degrees F (1...   \n",
       "\n",
       "                                                   url  \\\n",
       "0    http://img.sndimg.com/food/image/upload/w_512,...   \n",
       "1    https://img-global.cpcdn.com/001_recipes/58069...   \n",
       "2    http://img.sndimg.com/food/image/upload/w_512,...   \n",
       "3    http://tastykitchen.com/recipes/wp-content/upl...   \n",
       "4    http://assets.epicurious.com/photos/5609a4d662...   \n",
       "..                                                 ...   \n",
       "987  http://tastykitchen.com/recipes/wp-content/upl...   \n",
       "988  http://del.h-cdn.co/assets/cm/15/10/54f6786832...   \n",
       "989  http://assets.epicurious.com/photos/560d99d97b...   \n",
       "990  https://img-global.cpcdn.com/001_photo_reports...   \n",
       "991  http://images.media-allrecipes.com/userphotos/...   \n",
       "\n",
       "                                        generate_ingre  \\\n",
       "0    [[cheese, onion, pepper, soup, milk, salt, but...   \n",
       "1    [[chicken, pepper, salt, lemon, oil, onion, ju...   \n",
       "2    [[sugar, strawberries, water, egg, rhubarb, sa...   \n",
       "3    [[strawberries, yogurt, blueberries, honey, al...   \n",
       "4    [[oil, pepper, potato, clove, salt, rosemary, ...   \n",
       "..                                                 ...   \n",
       "987  [[pepper, tomato, chicken, cheese, oil, salt, ...   \n",
       "988  [[oil, flour, salt, egg, baking_powder, sugar,...   \n",
       "989  [[sugar, beet, water, blueberries, salt, butte...   \n",
       "990  [[cheese, onion, pepper, chicken, salt, tomato...   \n",
       "991  [[sugar, flour, egg, butter, salt, baking_soda...   \n",
       "\n",
       "                                         generate_reci  \\\n",
       "0    [[Preheat oven to 350 degrees f (175 degrees c...   \n",
       "1    [[Preheat oven to 350 degrees f (175 degrees c...   \n",
       "2    [[Preheat oven to 350 degrees f (175 degrees c...   \n",
       "3    [[Layer half each of the strawberries, blueber...   \n",
       "4    [[Preheat oven to 425 degrees f., In a large b...   \n",
       "..                                                 ...   \n",
       "987  [[Preheat oven to 350 degrees f., In a large s...   \n",
       "988  [[Mix all ingredients together., Heat skillet ...   \n",
       "989  [[In a large saucepan, combine the beets, wate...   \n",
       "990  [[Preheat oven to 350, Mix all ingredients tog...   \n",
       "991  [[Preheat oven to 350 degrees f (175 degrees c...   \n",
       "\n",
       "                                        generate_title  \\\n",
       "0    [Cheesy hash browns casserole, Easy scalloped ...   \n",
       "1    [Lemon chicken, Easy lemon chicken, Lemon pepp...   \n",
       "2    [Strawberry rhubarb pie, Rhubarb pie, Rhubarb ...   \n",
       "3    [Berry parfait, Fresh berry crunch parfait, St...   \n",
       "4    [Roasted potatoes with herbs, Roasted garlic f...   \n",
       "..                                                 ...   \n",
       "987  [Chicken with tomatoes and feta, Tomato chicke...   \n",
       "988  [Easy pancakes, Pancakes, Homemade yellow cake...   \n",
       "989  [Blueberry beets, Beet blueberry coulis, Beets...   \n",
       "990  [Chicken enchiladas, Baked rotel chicken, Bake...   \n",
       "991  [Peanut butter cookies, Brown sugar cookies, S...   \n",
       "\n",
       "                                        generate_score  \n",
       "0    [[True, 0.6138613861386139], [True, 0.74468085...  \n",
       "1    [[True, 0.6756756756756757], [True, 0.57843137...  \n",
       "2    [[True, 0.5567010309278351], [True, 0.62686567...  \n",
       "3    [[True, 0.7419354838709677], [True, 0.73076923...  \n",
       "4    [[True, 0.6833333333333333], [True, 0.58024691...  \n",
       "..                                                 ...  \n",
       "987  [[True, 0.5384615384615384], [True, 0.45833333...  \n",
       "988  [[True, 0.7027027027027027], [True, 0.77272727...  \n",
       "989  [[True, 0.46218487394957986], [True, 0.4551724...  \n",
       "990  [[True, 0.7777777777777778], [True, 0.73809523...  \n",
       "991  [[True, 0.608], [False, 0.52], [True, 0.619469...  \n",
       "\n",
       "[992 rows x 8 columns]"
      ]
     },
     "execution_count": 63,
     "metadata": {},
     "output_type": "execute_result"
    }
   ],
   "source": [
    "df_ablation"
   ]
  },
  {
   "cell_type": "code",
   "execution_count": 60,
   "metadata": {},
   "outputs": [
    {
     "data": {
      "text/plain": [
       "id                                                       000075604a\n",
       "ingredients       [2 Chicken thighs, 2 tsp Kombu tea, 1 White pe...\n",
       "instructions      [Pierce the skin of the chicken with a fork or...\n",
       "url               https://img-global.cpcdn.com/001_recipes/58069...\n",
       "generate_ingre    [[chicken, pepper, salt, lemon, oil, paprika, ...\n",
       "generate_reci     [[Preheat oven to 350 degrees f (175 degrees c...\n",
       "generate_title    [Lemon chicken, Grilled paprika chicken, Lemon...\n",
       "generate_score    [[True, 0.6756756756756757], [True, 0.59259259...\n",
       "Name: 1, dtype: object"
      ]
     },
     "execution_count": 60,
     "metadata": {},
     "output_type": "execute_result"
    }
   ],
   "source": [
    "df_origin.iloc[1]"
   ]
  },
  {
   "cell_type": "code",
   "execution_count": null,
   "metadata": {},
   "outputs": [],
   "source": []
  },
  {
   "cell_type": "code",
   "execution_count": 33,
   "metadata": {},
   "outputs": [
    {
     "name": "stdout",
     "output_type": "stream",
     "text": [
      "0.36873641832573967\n",
      "0.2425339539461238\n"
     ]
    }
   ],
   "source": [
    "# For 172 only\n",
    "\n",
    "f1_summary = []\n",
    "IOU_summary = []\n",
    "for i in range(0, len(results)):\n",
    "    \n",
    "    # validate\n",
    "    generate_score = results.iloc[i][\"generate_score\"]\n",
    "    if not is_recipe_validate(generate_score):\n",
    "        continue\n",
    "        \n",
    "    # Evaluate the ingredient\n",
    "    generate_ingre = results.iloc[i][\"generate_ingre\"]\n",
    "    reference_ingre = get_tokenized_and_stemmed_list(results.iloc[i][\"ingredients\"], stemmed_ingre)\n",
    "\n",
    "    try:\n",
    "        f1_score = score_ingre_f1(generate_ingre, reference_ingre)\n",
    "        iou_score = score_ingre_IOU(generate_ingre, reference_ingre)\n",
    "\n",
    "        f1_summary.append(f1_score)\n",
    "        IOU_summary.append(iou_score)\n",
    "    except:\n",
    "        print (i)\n",
    "\n",
    "    \n",
    "print(sum(f1_summary)/len(f1_summary))\n",
    "print(sum(IOU_summary)/len(IOU_summary))"
   ]
  },
  {
   "cell_type": "code",
   "execution_count": 43,
   "metadata": {},
   "outputs": [
    {
     "name": "stdout",
     "output_type": "stream",
     "text": [
      "0.3822714563075838\n",
      "0.2520162645266425\n",
      "0.2126551174956491\n",
      "0.0824011311040622\n"
     ]
    }
   ],
   "source": [
    "# For Recipe 1M only\n",
    "\n",
    "n_bleu = 3 # bleu-n score, 4 is default\n",
    "f1_summary = []\n",
    "IOU_summary = []\n",
    "meteor_summary = []\n",
    "bleu_summary = []\n",
    "for i in range(0, len(results)):\n",
    "    \n",
    "    # validate\n",
    "    generate_score = results.iloc[i][\"generate_score\"]\n",
    "    if not is_recipe_validate(generate_score):\n",
    "        continue\n",
    "        \n",
    "    # Evaluate the ingredient\n",
    "    generate_ingre = results.iloc[i][\"generate_ingre\"]\n",
    "    reference_ingre = get_tokenized_and_stemmed_list(results.iloc[i][\"ingredients\"], stemmed_ingre)\n",
    "    f1_score = score_ingre_f1(generate_ingre, reference_ingre)\n",
    "    iou_score = score_ingre_IOU(generate_ingre, reference_ingre)\n",
    "    \n",
    "#     print(\"F-1 score\", f1_score)\n",
    "#     print(\"IOU score\", iou_score)\n",
    "    \n",
    "    # Evaluate the recipe\n",
    "    generate_recipes = results.iloc[i][\"generate_reci\"]\n",
    "    ref_recipe = results.iloc[i][\"instructions\"]\n",
    "    m_score = score_recipe_meteor(generate_recipes, ref_recipe)\n",
    "    bleu_score = score_blue_n(generate_recipes, ref_recipe, n_bleu)\n",
    "#     print(\"Meteor score\", m_score)\n",
    "#     print(\"Bleu score\", bleu_score)\n",
    "\n",
    "#     if(bleu_score < 0.05):\n",
    "#         print (i)\n",
    "#         print (bleu_score)\n",
    "#         print (generate_recipes)\n",
    "#         print (ref_recipe)\n",
    "#         break\n",
    "    \n",
    "    \n",
    "    f1_summary.append(f1_score)\n",
    "    IOU_summary.append(iou_score)\n",
    "    meteor_summary.append(m_score)\n",
    "    bleu_summary.append(bleu_score)\n",
    "    \n",
    "print(sum(f1_summary)/len(f1_summary))\n",
    "print(sum(IOU_summary)/len(IOU_summary))\n",
    "print(sum(meteor_summary)/len(meteor_summary))\n",
    "print(sum(bleu_summary)/len(bleu_summary))"
   ]
  },
  {
   "cell_type": "code",
   "execution_count": null,
   "metadata": {},
   "outputs": [],
   "source": [
    "0.22894143727771604\n",
    "0.30131453447328344\n",
    "0.16368592972933632\n",
    "0.09660006694603887\n",
    "0.05463204076204984"
   ]
  },
  {
   "cell_type": "code",
   "execution_count": 28,
   "metadata": {},
   "outputs": [
    {
     "data": {
      "text/plain": [
       "[['Preheat oven to 350 degrees f (175 degrees c).',\n",
       "  'Grease a 9x13 inch baking dish.',\n",
       "  'In a large bowl, mix together the rhubarb, sugar, and water.',\n",
       "  'Pour into the prepared baking dish.',\n",
       "  'In a small bowl, mix together the cake mix and melted butter.',\n",
       "  'Sprinkle over the rhubarb mixture.',\n",
       "  'Bake in the preheated oven for 45 minutes, or until a toothpick inserted into the center of the cake comes out clean.'],\n",
       " ['Preheat oven to 350*.',\n",
       "  'In a small bowl, mix together the dry jello, dry cake mix and water.',\n",
       "  'Spread evenly on bottom of an ungreased 9x13 pan.',\n",
       "  'In a medium sized bowl combine the rhubarb, sugar and butter.',\n",
       "  'Pour evenly over dry cake mixture.',\n",
       "  'Bake for 30-35 minutes or until a knife inserted in the center comes out clean.',\n",
       "  'Remove from oven, cool for 10 minutes on a wire rack before serving.'],\n",
       " [\"Place rhubarb in 9x13'' baking pan.\",\n",
       "  'Mix jello, sugar and butter.',\n",
       "  'Add boiling water, and stir till melted.',\n",
       "  'Pour over rhubarb.',\n",
       "  'Chill.',\n",
       "  'When set slice and serve.'],\n",
       " ['Mix dry jello, sugar, water, and rhubarb together.',\n",
       "  'Add dry jello.',\n",
       "  'Add butter or margarine and mix well.',\n",
       "  'Put into 9 x 13 cake pan.',\n",
       "  'Bake at 400 degrees for 45 minutes.',\n",
       "  'Cool and cut.']]"
      ]
     },
     "execution_count": 28,
     "metadata": {},
     "output_type": "execute_result"
    }
   ],
   "source": [
    "results.iloc[2][\"generate_reci\"]"
   ]
  },
  {
   "cell_type": "code",
   "execution_count": 11,
   "metadata": {},
   "outputs": [
    {
     "data": {
      "text/plain": [
       "['Put ingredients in a buttered 9 x 12 x 2-inch pan in even layers in the order that they are given - DO NOT MIX.',\n",
       " 'Bake in a 350 oven for 1 hour.']"
      ]
     },
     "execution_count": 11,
     "metadata": {},
     "output_type": "execute_result"
    }
   ],
   "source": [
    "results.iloc[2][\"instructions\"]"
   ]
  },
  {
   "cell_type": "code",
   "execution_count": 14,
   "metadata": {},
   "outputs": [],
   "source": [
    "transformation:\n",
    "0.38209121434442705\n",
    "0.2518988218773229\n",
    "0.21262867201302285\n",
    "0.045752426936059604"
   ]
  },
  {
   "cell_type": "code",
   "execution_count": 15,
   "metadata": {},
   "outputs": [],
   "source": [
    "rotation:\n",
    "0.36885635410182627\n",
    "0.24263463759368842\n",
    "0.2030833555305791\n",
    "0.03971467392930373"
   ]
  },
  {
   "cell_type": "code",
   "execution_count": 16,
   "metadata": {},
   "outputs": [],
   "source": [
    "原版：\n",
    "0.3849248128279484\n",
    "0.2549482903374174\n",
    "0.21105063107297653\n",
    "0.04279394272598328"
   ]
  },
  {
   "cell_type": "code",
   "execution_count": 17,
   "metadata": {},
   "outputs": [],
   "source": []
  },
  {
   "cell_type": "code",
   "execution_count": 19,
   "metadata": {},
   "outputs": [],
   "source": []
  },
  {
   "cell_type": "code",
   "execution_count": 20,
   "metadata": {},
   "outputs": [],
   "source": []
  },
  {
   "cell_type": "code",
   "execution_count": 11,
   "metadata": {},
   "outputs": [],
   "source": [
    "# Extract token of true ingre for 1000\n",
    "true_ingre_1k = {}\n",
    "for i in range(0, len(results)):\n",
    "    reference_ingre = get_tokenized_and_stemmed_list(results.iloc[i][\"ingredients\"], stemmed_ingre)\n",
    "    url = results.iloc[i][\"url\"]\n",
    "    true_ingre_1k[url] = list(reference_ingre)\n",
    "        "
   ]
  },
  {
   "cell_type": "code",
   "execution_count": 12,
   "metadata": {},
   "outputs": [],
   "source": [
    "pickle.dump(true_ingre_1k, open( \"true_ingre_1k.pickle\", \"wb\" ) )"
   ]
  },
  {
   "cell_type": "code",
   "execution_count": null,
   "metadata": {},
   "outputs": [],
   "source": []
  },
  {
   "cell_type": "code",
   "execution_count": 24,
   "metadata": {},
   "outputs": [],
   "source": []
  },
  {
   "cell_type": "code",
   "execution_count": 25,
   "metadata": {},
   "outputs": [],
   "source": []
  }
 ],
 "metadata": {
  "kernelspec": {
   "display_name": "Python 3",
   "language": "python",
   "name": "python3"
  },
  "language_info": {
   "codemirror_mode": {
    "name": "ipython",
    "version": 3
   },
   "file_extension": ".py",
   "mimetype": "text/x-python",
   "name": "python",
   "nbconvert_exporter": "python",
   "pygments_lexer": "ipython3",
   "version": "3.7.6"
  }
 },
 "nbformat": 4,
 "nbformat_minor": 4
}
