{
 "cells": [
  {
   "cell_type": "markdown",
   "metadata": {},
   "source": [
    "## Inverse Cooking: Recipe Generation from Food Images"
   ]
  },
  {
   "cell_type": "code",
   "execution_count": 1,
   "metadata": {},
   "outputs": [],
   "source": [
    "import matplotlib.pyplot as plt\n",
    "import torch\n",
    "import torch.nn as nn\n",
    "import numpy as np\n",
    "import pandas as pd\n",
    "import os\n",
    "from args import get_parser\n",
    "import pickle\n",
    "from model import get_model\n",
    "from torchvision import transforms\n",
    "from utils.output_utils import prepare_output\n",
    "from PIL import Image\n",
    "import time\n",
    "from shutil import copyfile\n",
    "import csv"
   ]
  },
  {
   "cell_type": "code",
   "execution_count": 2,
   "metadata": {},
   "outputs": [],
   "source": [
    "vocab_file = '/home/ct2020dl5787/VireoFood172/vocab172_mapping.csv'\n",
    "chinese_vocab = []\n",
    "mapped_vocab = []\n",
    "with open(vocab_file) as file:\n",
    "    csv_reader = csv.reader(file, delimiter=',')\n",
    "    for row in csv_reader:\n",
    "        #check duplicate\n",
    "        chinese_vocab.append(row[0])\n",
    "        mapped_vocab.append(row[1])\n",
    "        #print(\"originally: \", row[0], \" mapped to \", row[1])"
   ]
  },
  {
   "cell_type": "code",
   "execution_count": 3,
   "metadata": {},
   "outputs": [],
   "source": [
    "true_labels = dict()\n",
    "ing_labels_file = open('/home/ct2020dl5787/VireoFood172/SplitAndIngreLabel/IngreLabel.txt', 'r')\n",
    "contents = ing_labels_file.readlines()\n",
    "for line in contents:\n",
    "    filename = line.split()[0]\n",
    "    labels = line.split()[1:]\n",
    "    true_labels[filename] = labels\n",
    "ing_labels_file.close()"
   ]
  },
  {
   "cell_type": "code",
   "execution_count": 17,
   "metadata": {},
   "outputs": [],
   "source": [
    "img_names = []\n",
    "img_ingre = []\n",
    "img_chinese_ingre = []\n",
    "\n",
    "image_dir = '/home/ct2020dl5787/VireoFood172/sample_pictures1720'\n",
    "for f in os.listdir(image_dir):\n",
    "    name = \"/\"+f\n",
    "    name = name.replace(\"_\",\"/\",1)\n",
    "    if name not in true_labels:\n",
    "        print(name)\n",
    "    else :\n",
    "        binary_label = true_labels[name]\n",
    "        mapped_labels = []\n",
    "        mapped_chinese_labels = []\n",
    "        for index, label in enumerate(binary_label):\n",
    "            if(label == \"1\") :\n",
    "                mapped_labels.append(mapped_vocab[index])\n",
    "                mapped_chinese_labels.append(chinese_vocab[index])\n",
    "        \n",
    "        img_ingre.append(mapped_labels)\n",
    "        img_chinese_ingre.append(mapped_chinese_labels)\n",
    "        img_names.append(f.replace(\"/\", \"_\"))"
   ]
  },
  {
   "cell_type": "code",
   "execution_count": 18,
   "metadata": {},
   "outputs": [],
   "source": [
    "img_dict = {'img_names': img_names, 'true_ingredients': img_ingre, 'ingredients_Chinese' : img_chinese_ingre}  \n",
    "true_label_df = pd.DataFrame(img_dict) "
   ]
  },
  {
   "cell_type": "code",
   "execution_count": 19,
   "metadata": {},
   "outputs": [
    {
     "data": {
      "text/html": [
       "<div>\n",
       "<style scoped>\n",
       "    .dataframe tbody tr th:only-of-type {\n",
       "        vertical-align: middle;\n",
       "    }\n",
       "\n",
       "    .dataframe tbody tr th {\n",
       "        vertical-align: top;\n",
       "    }\n",
       "\n",
       "    .dataframe thead th {\n",
       "        text-align: right;\n",
       "    }\n",
       "</style>\n",
       "<table border=\"1\" class=\"dataframe\">\n",
       "  <thead>\n",
       "    <tr style=\"text-align: right;\">\n",
       "      <th></th>\n",
       "      <th>img_names</th>\n",
       "      <th>true_ingredients</th>\n",
       "      <th>ingredients_Chinese</th>\n",
       "    </tr>\n",
       "  </thead>\n",
       "  <tbody>\n",
       "    <tr>\n",
       "      <th>0</th>\n",
       "      <td>86_10102721546691.jpg</td>\n",
       "      <td>[crab]</td>\n",
       "      <td>[Crab]</td>\n",
       "    </tr>\n",
       "    <tr>\n",
       "      <th>1</th>\n",
       "      <td>140_10_14.jpg</td>\n",
       "      <td>[diced_green_chilis, chili, garlic, squid]</td>\n",
       "      <td>[Crushed pepper, Crushed hot and dry chili, Cr...</td>\n",
       "    </tr>\n",
       "    <tr>\n",
       "      <th>2</th>\n",
       "      <td>100_10_2.jpg</td>\n",
       "      <td>[ham, egg, mushroom]</td>\n",
       "      <td>[Sliced ham, Egg cake, Brunoise diced lentinus...</td>\n",
       "    </tr>\n",
       "    <tr>\n",
       "      <th>3</th>\n",
       "      <td>64_0fd9b207887e2199159d73db9cc5a803.jpg</td>\n",
       "      <td>[scallion, pepper, tofu]</td>\n",
       "      <td>[Seared green onion, Shredded pepper, Tofu chu...</td>\n",
       "    </tr>\n",
       "    <tr>\n",
       "      <th>4</th>\n",
       "      <td>160_10_13.jpg</td>\n",
       "      <td>[black_sesame_seed, diced_green_chilis, Parsle...</td>\n",
       "      <td>[Black sesame, Crushed pepper, Chinese Parsley...</td>\n",
       "    </tr>\n",
       "    <tr>\n",
       "      <th>...</th>\n",
       "      <td>...</td>\n",
       "      <td>...</td>\n",
       "      <td>...</td>\n",
       "    </tr>\n",
       "    <tr>\n",
       "      <th>1715</th>\n",
       "      <td>109_10_24.jpg</td>\n",
       "      <td>[black_sesame_seed, Parsley, peanuts, chili, d...</td>\n",
       "      <td>[Black sesame, Chinese Parsleycoriander, Groun...</td>\n",
       "    </tr>\n",
       "    <tr>\n",
       "      <th>1716</th>\n",
       "      <td>84_10_2.jpg</td>\n",
       "      <td>[greens, tofu]</td>\n",
       "      <td>[Green vegetables, Stinky tofu]</td>\n",
       "    </tr>\n",
       "    <tr>\n",
       "      <th>1717</th>\n",
       "      <td>111_10_21.jpg</td>\n",
       "      <td>[scallion, carrot, Parsley, chili, dried_black...</td>\n",
       "      <td>[Minced green onion, Hob blocks of carrot, Chi...</td>\n",
       "    </tr>\n",
       "    <tr>\n",
       "      <th>1718</th>\n",
       "      <td>135_10_10.jpg</td>\n",
       "      <td>[greens, bean_threads, bean_curd]</td>\n",
       "      <td>[Green vegetables, Rice noodle, Fried yuba skin]</td>\n",
       "    </tr>\n",
       "    <tr>\n",
       "      <th>1719</th>\n",
       "      <td>117_10_19.jpg</td>\n",
       "      <td>[tofu, spring_roll_wrappers]</td>\n",
       "      <td>[Tofu chunks, Spring rolls]</td>\n",
       "    </tr>\n",
       "  </tbody>\n",
       "</table>\n",
       "<p>1720 rows × 3 columns</p>\n",
       "</div>"
      ],
      "text/plain": [
       "                                    img_names  \\\n",
       "0                       86_10102721546691.jpg   \n",
       "1                               140_10_14.jpg   \n",
       "2                                100_10_2.jpg   \n",
       "3     64_0fd9b207887e2199159d73db9cc5a803.jpg   \n",
       "4                               160_10_13.jpg   \n",
       "...                                       ...   \n",
       "1715                            109_10_24.jpg   \n",
       "1716                              84_10_2.jpg   \n",
       "1717                            111_10_21.jpg   \n",
       "1718                            135_10_10.jpg   \n",
       "1719                            117_10_19.jpg   \n",
       "\n",
       "                                       true_ingredients  \\\n",
       "0                                                [crab]   \n",
       "1            [diced_green_chilis, chili, garlic, squid]   \n",
       "2                                  [ham, egg, mushroom]   \n",
       "3                              [scallion, pepper, tofu]   \n",
       "4     [black_sesame_seed, diced_green_chilis, Parsle...   \n",
       "...                                                 ...   \n",
       "1715  [black_sesame_seed, Parsley, peanuts, chili, d...   \n",
       "1716                                     [greens, tofu]   \n",
       "1717  [scallion, carrot, Parsley, chili, dried_black...   \n",
       "1718                  [greens, bean_threads, bean_curd]   \n",
       "1719                       [tofu, spring_roll_wrappers]   \n",
       "\n",
       "                                    ingredients_Chinese  \n",
       "0                                                [Crab]  \n",
       "1     [Crushed pepper, Crushed hot and dry chili, Cr...  \n",
       "2     [Sliced ham, Egg cake, Brunoise diced lentinus...  \n",
       "3     [Seared green onion, Shredded pepper, Tofu chu...  \n",
       "4     [Black sesame, Crushed pepper, Chinese Parsley...  \n",
       "...                                                 ...  \n",
       "1715  [Black sesame, Chinese Parsleycoriander, Groun...  \n",
       "1716                    [Green vegetables, Stinky tofu]  \n",
       "1717  [Minced green onion, Hob blocks of carrot, Chi...  \n",
       "1718   [Green vegetables, Rice noodle, Fried yuba skin]  \n",
       "1719                        [Tofu chunks, Spring rolls]  \n",
       "\n",
       "[1720 rows x 3 columns]"
      ]
     },
     "execution_count": 19,
     "metadata": {},
     "output_type": "execute_result"
    }
   ],
   "source": [
    "true_label_df"
   ]
  },
  {
   "cell_type": "code",
   "execution_count": 20,
   "metadata": {},
   "outputs": [],
   "source": [
    "#Build JSON\n",
    "import json"
   ]
  },
  {
   "cell_type": "code",
   "execution_count": 23,
   "metadata": {},
   "outputs": [],
   "source": [
    "#First layer1.json\n",
    "layer1_file_path = image_dir + \"/layer1.json\"\n",
    "layer1_list = []\n",
    "img_len = 2\n",
    "for i in range(img_len):\n",
    "    img_name = true_label_df['img_names'][i]\n",
    "    jpg_index = img_name.find(\".jpg\")\n",
    "    img_id = img_name[:jpg_index]\n",
    "    ingredients = true_label_df['true_ingredients'][i]\n",
    "    #split the dataset so train:val:test is 6:1:1\n",
    "    if (i%8 == 1):\n",
    "        split = \"val\"\n",
    "    elif(i%8 == 2):\n",
    "        split = \"test\"\n",
    "    else:\n",
    "        split = \"train\"\n",
    "    \n",
    "    ingr_list = []\n",
    "    for ingr in ingredients:\n",
    "        ingr_dict = {\"text\": ingr}\n",
    "        ingr_list.append(ingr_dict)\n",
    "    \n",
    "    img_dict = {\"id\": img_id, \n",
    "                  \"title\": \"\",\n",
    "                 \"instructions\": [],\n",
    "                 \"ingredients\": ingr_list,\n",
    "                 \"partition\":split,\n",
    "                 \"url\":\"\"}\n",
    "    layer1_list.append(img_dict)\n",
    "    \n",
    "# with open(layer1_file_path, 'w') as json_file:\n",
    "#     json.dump(layer1_list, json_file)"
   ]
  },
  {
   "cell_type": "code",
   "execution_count": 24,
   "metadata": {},
   "outputs": [
    {
     "data": {
      "text/plain": [
       "[{'id': '86_10102721546691',\n",
       "  'title': '',\n",
       "  'instructions': [{'text': 'crab'}],\n",
       "  'ingredients': [],\n",
       "  'partition': 'train',\n",
       "  'url': ''},\n",
       " {'id': '140_10_14',\n",
       "  'title': '',\n",
       "  'instructions': [{'text': 'diced_green_chilis'},\n",
       "   {'text': 'chili'},\n",
       "   {'text': 'garlic'},\n",
       "   {'text': 'squid'}],\n",
       "  'ingredients': [],\n",
       "  'partition': 'val',\n",
       "  'url': ''}]"
      ]
     },
     "execution_count": 24,
     "metadata": {},
     "output_type": "execute_result"
    }
   ],
   "source": [
    "layer1_list"
   ]
  },
  {
   "cell_type": "code",
   "execution_count": null,
   "metadata": {},
   "outputs": [],
   "source": [
    "#Then layer2.json\n",
    "layer2_file_path = image_dir + \"/layer2.json\""
   ]
  }
 ],
 "metadata": {
  "kernelspec": {
   "display_name": "Python 3",
   "language": "python",
   "name": "python3"
  },
  "language_info": {
   "codemirror_mode": {
    "name": "ipython",
    "version": 3
   },
   "file_extension": ".py",
   "mimetype": "text/x-python",
   "name": "python",
   "nbconvert_exporter": "python",
   "pygments_lexer": "ipython3",
   "version": "3.7.6"
  }
 },
 "nbformat": 4,
 "nbformat_minor": 2
}
