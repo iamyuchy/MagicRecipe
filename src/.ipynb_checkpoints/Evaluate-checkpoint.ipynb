{
 "cells": [
  {
   "cell_type": "code",
   "execution_count": 2,
   "metadata": {},
   "outputs": [
    {
     "name": "stderr",
     "output_type": "stream",
     "text": [
      "[nltk_data] Downloading package punkt to /Users/Wuyifeng/nltk_data...\n",
      "[nltk_data]   Package punkt is already up-to-date!\n",
      "[nltk_data] Downloading package wordnet to\n",
      "[nltk_data]     /Users/Wuyifeng/nltk_data...\n",
      "[nltk_data]   Package wordnet is already up-to-date!\n"
     ]
    }
   ],
   "source": [
    "from nltk.stem import PorterStemmer\n",
    "import pickle\n",
    "import nltk\n",
    "nltk.download('punkt')\n",
    "nltk.download('wordnet')\n",
    "from nltk.tokenize import word_tokenize \n",
    "import string\n",
    "from nltk.translate.meteor_score import meteor_score"
   ]
  },
  {
   "cell_type": "code",
   "execution_count": 3,
   "metadata": {},
   "outputs": [],
   "source": [
    "def get_ingred_f1(pred, label):\n",
    "    '''\n",
    "    input: \n",
    "        pred: a list of predicted ingredients\n",
    "        label: a list of label ingredients\n",
    "    output: \n",
    "        F-1 score of the prediction\n",
    "    \n",
    "    i.e.  \n",
    "    in: \n",
    "        pred = [\"tomato\", \"sugar\", \"beef\"]\n",
    "        label = [\"potato\", \"tomato\"]\n",
    "     \n",
    "    out: \n",
    "        0.4\n",
    "    '''\n",
    "    intersection = list(set(pred) & set(label))\n",
    "    precision = len(intersection) / len(pred)\n",
    "    recall = len(intersection) / len(label)\n",
    "    if precision + recall == 0:\n",
    "        return 0\n",
    "    f1 = 2 * precision * recall / (precision + recall)\n",
    "    return f1\n",
    "\n",
    "\n",
    "def get_ingred_IOU(pred, label):\n",
    "    '''\n",
    "    input: \n",
    "        pred: a list of predicted ingredients\n",
    "        label: a list of label ingredients\n",
    "    output: \n",
    "        IOU of the prediction\n",
    "    \n",
    "    i.e.  \n",
    "    in: \n",
    "        pred = [\"tomato\", \"sugar\", \"beef\"]\n",
    "        label = [\"potato\", \"tomato\"]\n",
    "     \n",
    "    out: \n",
    "        0.25\n",
    "    '''\n",
    "    intersection = len(list(set(pred) & set(label)))\n",
    "    union = len(list(set(pred) | set(label)))\n",
    "    iou = intersection / union\n",
    "    return iou\n",
    "\n",
    "\n",
    "\n",
    "\n",
    "\n",
    "def get_bleu_n_score(pred, label, n = 4):\n",
    "    \n",
    "    '''\n",
    "    TODO: STEM not added\n",
    "    input: \n",
    "        pred: One string of predict recipe \n",
    "        label: One string of reference recipe\n",
    "        n(optional): up to n-gram.\n",
    "    output: \n",
    "        bleu score\n",
    "    \n",
    "    i.e.  \n",
    "    in: \n",
    "        pred = \"Add the buttter\"\n",
    "        label = \"Add half butter and mix well\"\n",
    "    out: \n",
    "        0.25\n",
    "    '''\n",
    "    weights = [1/n] * n\n",
    "    pred_list = pred.translate(str.maketrans('', '', string.punctuation)).split()\n",
    "    pred_list = [ps.stem(word) for word in pred_list]\n",
    "    label_list = label.translate(str.maketrans('', '', string.punctuation)).split()\n",
    "    label_list = [ps.stem(word) for word in label_list]\n",
    "    BLEUscore = nltk.translate.bleu_score.sentence_bleu([label_list], pred_list, weights)\n",
    "    return BLEUscore\n",
    "\n",
    "\n",
    "\n",
    "\n",
    "def get_meteor_score(pred, label):\n",
    "    return meteor_score([label], pred)\n",
    "\n",
    "def read_ingre_vocab(filepath):\n",
    "    '''\n",
    "    input: \n",
    "        filepath of recipe1m_vocab_ingrs.pkl\n",
    "    output: \n",
    "        a list of stemed ingre\n",
    "    \n",
    "    i.e.  \n",
    "    in: \n",
    "        \"4 large baking potatoes (2 lb./900 g) Safeway 2 pkg For $5.00 thru 02/09\"\"\n",
    "    out: \n",
    "        [\"potato\"]\n",
    "    '''\n",
    "    ingre = pickle.load(open(filepath, \"rb\" ))\n",
    "    result = []\n",
    "    for i in range(1, len(ingre.idx2word)):\n",
    "        word = min(ingre.idx2word[i], key=len)\n",
    "        if \"_\" not in word:\n",
    "            result.append(ps.stem(word))\n",
    "    return result"
   ]
  },
  {
   "cell_type": "code",
   "execution_count": 4,
   "metadata": {},
   "outputs": [],
   "source": [
    "class Vocabulary(object):\n",
    "    \"\"\"Simple vocabulary wrapper.\"\"\"\n",
    "    def __init__(self):\n",
    "        self.word2idx = {}\n",
    "        self.idx2word = {}\n",
    "        self.idx = 0\n",
    "\n",
    "    def add_word(self, word, idx=None):\n",
    "        if idx is None:\n",
    "            if not word in self.word2idx:\n",
    "                self.word2idx[word] = self.idx\n",
    "                self.idx2word[self.idx] = word\n",
    "                self.idx += 1\n",
    "            return self.idx\n",
    "        else:\n",
    "            if not word in self.word2idx:\n",
    "                self.word2idx[word] = idx\n",
    "                if idx in self.idx2word.keys():\n",
    "                    self.idx2word[idx].append(word)\n",
    "                else:\n",
    "                    self.idx2word[idx] = [word]\n",
    "\n",
    "                return idx\n",
    "\n",
    "    def __call__(self, word):\n",
    "        if not word in self.word2idx:\n",
    "            return self.word2idx['<pad>']\n",
    "        return self.word2idx[word]\n",
    "\n",
    "    def __len__(self):\n",
    "        return len(self.idx2word)\n",
    "\n"
   ]
  },
  {
   "cell_type": "code",
   "execution_count": 37,
   "metadata": {},
   "outputs": [],
   "source": [
    "def score_ingre_f1(results, ref):\n",
    "    '''\n",
    "    input: \n",
    "        results: a list of candidates ingre list\n",
    "        ref: a list of reference ingre\n",
    "    output: \n",
    "        f1 score\n",
    "    '''\n",
    "    score = 0\n",
    "    for result in results:\n",
    "        score = max(score, get_ingred_f1(result, ref))\n",
    "            \n",
    "    return score\n",
    "\n",
    "\n",
    "def score_ingre_IOU(results, ref):\n",
    "    '''\n",
    "    input: \n",
    "        results: a list of candidates ingre list\n",
    "        ref: a list of reference ingre\n",
    "    output: \n",
    "        IOU score\n",
    "    '''\n",
    "    score = 0\n",
    "    for result in results:\n",
    "        score = max(score, get_ingred_IOU(result, ref))\n",
    "            \n",
    "    return score\n",
    "\n",
    "def show_ingre(df, i):\n",
    "    print (df.iloc[i][\"ingredients\"])\n",
    "    print (df.iloc[i][\"generate_ingre\"])\n",
    "    \n",
    "    \n",
    "    \n",
    "def score_recipe_meteor(generate_recipes, ref):\n",
    "    score = 0\n",
    "    ref = \" \".join(ref)\n",
    "    for recipe in generate_recipes:\n",
    "        joined_recipe = \" \".join(recipe)\n",
    "        score = max(score, get_meteor_score(joined_recipe, ref))\n",
    "    return score\n",
    "\n",
    "\n",
    "def score_blue_n(generate_recipes, ref, n):\n",
    "    score = 0\n",
    "    ref = \" \".join(ref)\n",
    "    for recipe in generate_recipes:\n",
    "        joined_recipe = \" \".join(recipe)\n",
    "        score = max(score, get_bleu_n_score(joined_recipe, ref, n))\n",
    "    return score\n",
    "\n",
    "\n",
    "\n",
    "\n",
    "\n",
    "def get_tokenized_and_stemmed_list(ingre_lists, ingre_vocab):\n",
    "    '''\n",
    "    input: \n",
    "        a list of ingredient str\n",
    "        a list of stemmed reference ingre vocab\n",
    "    output: \n",
    "        a set of indredient\n",
    "    \n",
    "    i.e.  \n",
    "    in: \n",
    "        \"4 large baking potatoes (2 lb./900 g) Safeway 2 pkg For $5.00 thru 02/09\"\"\n",
    "    out: \n",
    "        [\"potato\"]\n",
    "    '''\n",
    "    result = set()\n",
    "    for ingre_list in ingre_lists:\n",
    "        words = word_tokenize(ingre_list) \n",
    "        for word in words: \n",
    "            result.add(ps.stem(word))\n",
    "            \n",
    "    return result & set(ingre_vocab)\n",
    "\n",
    "\n",
    "def is_recipe_validate(generate_score):\n",
    "    count = 0\n",
    "    for j in range (4):\n",
    "#         if results.iloc[i][\"generate_score\"][j][0] == False:\n",
    "        if generate_score[j][0] == False:\n",
    "            count += 1\n",
    "    if count == 4:\n",
    "        return False\n",
    "    return True"
   ]
  },
  {
   "cell_type": "code",
   "execution_count": null,
   "metadata": {},
   "outputs": [],
   "source": []
  },
  {
   "cell_type": "code",
   "execution_count": null,
   "metadata": {},
   "outputs": [],
   "source": []
  },
  {
   "cell_type": "code",
   "execution_count": 6,
   "metadata": {},
   "outputs": [],
   "source": [
    "# import string\n",
    "# \"apple?! jfs\".translate(str.maketrans('', '', string.punctuation)).split()"
   ]
  },
  {
   "cell_type": "code",
   "execution_count": null,
   "metadata": {},
   "outputs": [],
   "source": []
  },
  {
   "cell_type": "code",
   "execution_count": null,
   "metadata": {},
   "outputs": [],
   "source": []
  },
  {
   "cell_type": "code",
   "execution_count": null,
   "metadata": {},
   "outputs": [],
   "source": []
  },
  {
   "cell_type": "code",
   "execution_count": 7,
   "metadata": {},
   "outputs": [],
   "source": [
    "ps = PorterStemmer()\n",
    "results = pickle.load(open( \"df_recipe1023_all.pkl\", \"rb\" ) )\n",
    "stemmed_ingre = read_ingre_vocab(\"recipe1m_vocab_ingrs.pkl\")"
   ]
  },
  {
   "cell_type": "code",
   "execution_count": null,
   "metadata": {},
   "outputs": [],
   "source": []
  },
  {
   "cell_type": "code",
   "execution_count": null,
   "metadata": {},
   "outputs": [],
   "source": []
  },
  {
   "cell_type": "code",
   "execution_count": 10,
   "metadata": {},
   "outputs": [],
   "source": []
  },
  {
   "cell_type": "code",
   "execution_count": null,
   "metadata": {},
   "outputs": [],
   "source": []
  },
  {
   "cell_type": "code",
   "execution_count": 11,
   "metadata": {},
   "outputs": [],
   "source": []
  },
  {
   "cell_type": "code",
   "execution_count": 12,
   "metadata": {},
   "outputs": [],
   "source": []
  },
  {
   "cell_type": "code",
   "execution_count": null,
   "metadata": {},
   "outputs": [],
   "source": []
  },
  {
   "cell_type": "code",
   "execution_count": 35,
   "metadata": {},
   "outputs": [
    {
     "data": {
      "text/plain": [
       "[[False, 0.47333333333333333],\n",
       " [True, 0.6266666666666667],\n",
       " [False, 0.47333333333333333],\n",
       " [True, 0.6875]]"
      ]
     },
     "execution_count": 35,
     "metadata": {},
     "output_type": "execute_result"
    }
   ],
   "source": [
    "results.iloc[2][\"generate_score\"]"
   ]
  },
  {
   "cell_type": "code",
   "execution_count": null,
   "metadata": {},
   "outputs": [],
   "source": []
  },
  {
   "cell_type": "code",
   "execution_count": null,
   "metadata": {},
   "outputs": [],
   "source": []
  },
  {
   "cell_type": "code",
   "execution_count": 36,
   "metadata": {},
   "outputs": [
    {
     "name": "stdout",
     "output_type": "stream",
     "text": [
      "542\n",
      "644\n"
     ]
    }
   ],
   "source": []
  },
  {
   "cell_type": "code",
   "execution_count": 32,
   "metadata": {},
   "outputs": [
    {
     "data": {
      "text/plain": [
       "True"
      ]
     },
     "execution_count": 32,
     "metadata": {},
     "output_type": "execute_result"
    }
   ],
   "source": [
    "# results.iloc[5][\"generate_score\"][0][0]"
   ]
  },
  {
   "cell_type": "code",
   "execution_count": null,
   "metadata": {},
   "outputs": [],
   "source": []
  },
  {
   "cell_type": "code",
   "execution_count": null,
   "metadata": {},
   "outputs": [],
   "source": []
  },
  {
   "cell_type": "code",
   "execution_count": 43,
   "metadata": {},
   "outputs": [
    {
     "data": {
      "text/plain": [
       "989"
      ]
     },
     "execution_count": 43,
     "metadata": {},
     "output_type": "execute_result"
    }
   ],
   "source": [
    "len(f1_summary)"
   ]
  },
  {
   "cell_type": "code",
   "execution_count": 51,
   "metadata": {},
   "outputs": [
    {
     "name": "stdout",
     "output_type": "stream",
     "text": [
      "0.3849248128279484\n",
      "0.2549482903374174\n",
      "0.21105063107297653\n",
      "0.08013590116745573\n"
     ]
    }
   ],
   "source": [
    "n_bleu = 3 # bleu-n score, 4 is default\n",
    "f1_summary = []\n",
    "IOU_summary = []\n",
    "meteor_summary = []\n",
    "bleu_summary = []\n",
    "for i in range(0, len(results)):\n",
    "    \n",
    "    # validate\n",
    "    generate_score = results.iloc[i][\"generate_score\"]\n",
    "    if not is_recipe_validate(generate_score):\n",
    "        continue\n",
    "        \n",
    "    # Evaluate the ingredient\n",
    "    generate_ingre = results.iloc[i][\"generate_ingre\"]\n",
    "    reference_ingre = get_tokenized_and_stemmed_list(results.iloc[i][\"ingredients\"], stemmed_ingre)\n",
    "    f1_score = score_ingre_f1(generate_ingre, reference_ingre)\n",
    "    iou_score = score_ingre_IOU(generate_ingre, reference_ingre)\n",
    "    \n",
    "#     print(\"F-1 score\", f1_score)\n",
    "#     print(\"IOU score\", iou_score)\n",
    "    \n",
    "    # Evaluate the recipe\n",
    "    generate_recipes = results.iloc[i][\"generate_reci\"]\n",
    "    ref_recipe = results.iloc[i][\"instructions\"]\n",
    "    m_score = score_recipe_meteor(generate_recipes, ref_recipe)\n",
    "    bleu_score = score_blue_n(generate_recipes, ref_recipe, n_bleu)\n",
    "#     print(\"Meteor score\", m_score)\n",
    "#     print(\"Bleu score\", bleu_score)\n",
    "\n",
    "#     if(bleu_score < 0.05):\n",
    "#         print (i)\n",
    "#         print (bleu_score)\n",
    "#         print (generate_recipes)\n",
    "#         print (ref_recipe)\n",
    "#         break\n",
    "    \n",
    "    \n",
    "    f1_summary.append(f1_score)\n",
    "    IOU_summary.append(iou_score)\n",
    "    meteor_summary.append(m_score)\n",
    "    bleu_summary.append(bleu_score)\n",
    "    \n",
    "print(sum(f1_summary)/len(f1_summary))\n",
    "print(sum(IOU_summary)/len(IOU_summary))\n",
    "print(sum(meteor_summary)/len(meteor_summary))\n",
    "print(sum(bleu_summary)/len(bleu_summary))"
   ]
  },
  {
   "cell_type": "code",
   "execution_count": 49,
   "metadata": {},
   "outputs": [
    {
     "data": {
      "text/plain": [
       "[['Preheat oven to 350 degrees f (175 degrees c).',\n",
       "  'Grease a 9-inch pie pan.',\n",
       "  'In a large bowl, mix together the flour, sugar, salt, and cinnamon.',\n",
       "  'Cut in the butter until the mixture resembles coarse crumbs.',\n",
       "  'Stir in the water and egg until the dough forms a ball.',\n",
       "  'Press the dough into the bottom and up the sides of the prepared pie pan.',\n",
       "  'Bake in the preheated oven for 15 minutes.',\n",
       "  'Reduce heat to 350 degrees f (175 degrees c) and bake for an additional 30 minutes, or until the crust is golden brown.',\n",
       "  'Allow to cool.',\n",
       "  'In a large bowl, mix together the rhubarb, strawberries, and sugar.',\n",
       "  'Pour into the cooled crust.'],\n",
       " ['Combine sugar and flour.',\n",
       "  'Add melted butter and mix until crumbly.',\n",
       "  'Add water and beaten egg, mix again.',\n",
       "  'Place in a greased baking dish and cover with strawberries and rhubarb.',\n",
       "  'Mix brown sugar, flour, cinnamon and salt in bowl, then sprinkle over top of berries.',\n",
       "  'Bake in a 400 degree f oven for 35 minutes.'],\n",
       " ['Heat oven to 350',\n",
       "  'Butter an 8 x 8-inch baking pan',\n",
       "  'In a blender, combine the rhubarb with the strawberries and 2 tablespoons sugar',\n",
       "  'Add the water and pulse until pureed.',\n",
       "  'In a medium bowl, combine the flour, salt and cinnamon.',\n",
       "  'With the machine on, drizzle in the butter and blend until the mixture resembles coarse meal.',\n",
       "  'Sprinkle the mixture evenly over the fruit mixture in the prepared baking pan.',\n",
       "  'Place the baking pan in a large roasting pan.',\n",
       "  'Add the water to the pan.',\n",
       "  'Bake the crust for 25 minutes or until the custard sets.',\n",
       "  'Meanwhile, in a large bowl, beat the eggs with the sugar until smooth.',\n",
       "  'Mix in the rhubarb mixture; pour into'],\n",
       " ['Combine rhubarb, strawberries, sugar, flour, salt, eggs, and 2 t melted butter.',\n",
       "  \"Pour into 9'' pie plate.\",\n",
       "  'For the crust: mix remaining butter, flour and brown sugar well and sprinkle over fruit.',\n",
       "  'Bake 425 for 15 minutes in 350 degree oven.',\n",
       "  'Reduce heat to 325 degrees (f) bake 30-35 minutes longer until pie is lightly browned.']]"
      ]
     },
     "execution_count": 49,
     "metadata": {},
     "output_type": "execute_result"
    }
   ],
   "source": [
    "results.iloc[2][\"generate_reci\"]"
   ]
  },
  {
   "cell_type": "code",
   "execution_count": 50,
   "metadata": {},
   "outputs": [
    {
     "data": {
      "text/plain": [
       "['Put ingredients in a buttered 9 x 12 x 2-inch pan in even layers in the order that they are given - DO NOT MIX.',\n",
       " 'Bake in a 350 oven for 1 hour.']"
      ]
     },
     "execution_count": 50,
     "metadata": {},
     "output_type": "execute_result"
    }
   ],
   "source": [
    "results.iloc[2][\"instructions\"]"
   ]
  },
  {
   "cell_type": "code",
   "execution_count": 14,
   "metadata": {},
   "outputs": [],
   "source": [
    "# # pred = \"apple\"\n",
    "# # label = \"apples\"\n",
    "# # get_meteor_score(pred, label)\n",
    "\n",
    "\n",
    "\n",
    "\n",
    "# pred = \"I love apples, do you like it also ahhaha I love bears and you I love all the fruit?\"\n",
    "# label = \"I love apple, do you like it?\"\n",
    "# get_meteor_score(pred, label)"
   ]
  },
  {
   "cell_type": "code",
   "execution_count": 15,
   "metadata": {},
   "outputs": [],
   "source": [
    "# reference = [\"I love apples and you\"]\n",
    "# candidate = \"I love\"\n",
    "\n",
    "# nltk.translate.bleu_score.sentence_bleu(reference, candidate)"
   ]
  },
  {
   "cell_type": "code",
   "execution_count": 16,
   "metadata": {},
   "outputs": [],
   "source": [
    "# hypothesis = ['I', 'love', \"and\", \"you\"]\n",
    "# reference = [['I', 'love', 'apples', \"and\", \"you\"]]\n",
    "# #there may be several references\n",
    "# BLEUscore = nltk.translate.bleu_score.sentence_bleu(reference, hypothesis)\n",
    "# print (BLEUscore)"
   ]
  },
  {
   "cell_type": "code",
   "execution_count": 17,
   "metadata": {},
   "outputs": [],
   "source": [
    "# get_bleu_n_score(\"I love apples and you\", \"I love apples and you and you\")"
   ]
  },
  {
   "cell_type": "code",
   "execution_count": 18,
   "metadata": {},
   "outputs": [],
   "source": [
    "# results.iloc[5][\"generate_reci\"][0]"
   ]
  },
  {
   "cell_type": "code",
   "execution_count": 19,
   "metadata": {},
   "outputs": [],
   "source": [
    "# a = results.iloc[5][\"generate_reci\"][0]\n",
    "# a = \" \".join(a)\n",
    "# a"
   ]
  },
  {
   "cell_type": "code",
   "execution_count": 20,
   "metadata": {},
   "outputs": [],
   "source": [
    "# results.iloc[5][\"instructions\"]"
   ]
  },
  {
   "cell_type": "code",
   "execution_count": 21,
   "metadata": {},
   "outputs": [],
   "source": [
    "# b = results.iloc[5][\"instructions\"]\n",
    "# b = \" \".join(b)\n",
    "# b"
   ]
  },
  {
   "cell_type": "code",
   "execution_count": 22,
   "metadata": {},
   "outputs": [],
   "source": [
    "# get_meteor_score(a, b)"
   ]
  },
  {
   "cell_type": "code",
   "execution_count": 23,
   "metadata": {},
   "outputs": [],
   "source": [
    "# score_recipe_meteor(a, b)"
   ]
  },
  {
   "cell_type": "code",
   "execution_count": 24,
   "metadata": {},
   "outputs": [],
   "source": [
    "# get_bleu_n_score(a, b)"
   ]
  },
  {
   "cell_type": "code",
   "execution_count": 25,
   "metadata": {},
   "outputs": [],
   "source": [
    "# generate_recipes = results.iloc[1][\"generate_reci\"]\n",
    "# ref_recipe = results.iloc[1][\"instructions\"]\n",
    "# score_recipe_meteor(generate_recipes, ref_recipe)"
   ]
  }
 ],
 "metadata": {
  "kernelspec": {
   "display_name": "Python 3",
   "language": "python",
   "name": "python3"
  },
  "language_info": {
   "codemirror_mode": {
    "name": "ipython",
    "version": 3
   },
   "file_extension": ".py",
   "mimetype": "text/x-python",
   "name": "python",
   "nbconvert_exporter": "python",
   "pygments_lexer": "ipython3",
   "version": "3.7.3"
  }
 },
 "nbformat": 4,
 "nbformat_minor": 4
}
