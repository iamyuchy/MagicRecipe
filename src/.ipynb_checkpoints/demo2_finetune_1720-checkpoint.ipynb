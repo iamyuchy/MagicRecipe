{
 "cells": [
  {
   "cell_type": "markdown",
   "metadata": {},
   "source": [
    "## Inverse Cooking: Recipe Generation from Food Images"
   ]
  },
  {
   "cell_type": "code",
   "execution_count": 181,
   "metadata": {},
   "outputs": [],
   "source": [
    "import matplotlib.pyplot as plt\n",
    "import torch\n",
    "import torch.nn as nn\n",
    "import numpy as np\n",
    "import pandas as pd\n",
    "import os\n",
    "from args import get_parser\n",
    "import pickle\n",
    "from model import get_model\n",
    "from torchvision import transforms\n",
    "from utils.output_utils import prepare_output\n",
    "from PIL import Image\n",
    "import time"
   ]
  },
  {
   "cell_type": "markdown",
   "metadata": {},
   "source": [
    "Set ```data_dir``` to the path including vocabularies and model checkpoint"
   ]
  },
  {
   "cell_type": "code",
   "execution_count": 182,
   "metadata": {},
   "outputs": [],
   "source": [
    "data_dir = ''"
   ]
  },
  {
   "cell_type": "code",
   "execution_count": 183,
   "metadata": {},
   "outputs": [],
   "source": [
    "# code will run in gpu if available and if the flag is set to True, else it will run on cpu\n",
    "use_gpu = True\n",
    "device = torch.device('cuda' if torch.cuda.is_available() and use_gpu else 'cpu')\n",
    "map_loc = None if torch.cuda.is_available() and use_gpu else 'cpu'\n",
    "\n",
    "\n",
    "# device = torch.device('cpu')\n",
    "# map_loc = None\n"
   ]
  },
  {
   "cell_type": "code",
   "execution_count": 184,
   "metadata": {},
   "outputs": [
    {
     "name": "stdout",
     "output_type": "stream",
     "text": [
      "cuda\n"
     ]
    }
   ],
   "source": [
    "print(device)"
   ]
  },
  {
   "cell_type": "code",
   "execution_count": 185,
   "metadata": {},
   "outputs": [],
   "source": [
    "# code below was used to save vocab files so that they can be loaded without Vocabulary class\n",
    "#ingrs_vocab = pickle.load(open(os.path.join(data_dir, 'final_recipe1m_vocab_ingrs.pkl'), 'rb'))\n",
    "#ingrs_vocab = [min(w, key=len) if not isinstance(w, str) else w for w in ingrs_vocab.idx2word.values()]\n",
    "#vocab = pickle.load(open(os.path.join(data_dir, 'final_recipe1m_vocab_toks.pkl'), 'rb')).idx2word\n",
    "#pickle.dump(ingrs_vocab, open('../demo/ingr_vocab.pkl', 'wb'))\n",
    "#pickle.dump(vocab, open('../demo/instr_vocab.pkl', 'wb'))\n",
    "\n",
    "ingrs_vocab = pickle.load(open(os.path.join(data_dir, 'ingr_vocab.pkl'), 'rb'))\n",
    "vocab = pickle.load(open(os.path.join(data_dir, 'instr_vocab.pkl'), 'rb'))\n",
    "\n",
    "ingr_vocab_size = len(ingrs_vocab)\n",
    "instrs_vocab_size = len(vocab)\n",
    "output_dim = instrs_vocab_size"
   ]
  },
  {
   "cell_type": "code",
   "execution_count": 186,
   "metadata": {},
   "outputs": [
    {
     "name": "stdout",
     "output_type": "stream",
     "text": [
      "23231 1488\n"
     ]
    }
   ],
   "source": [
    "def get_ingrs(ids):\n",
    "    gen_ingrs = []\n",
    "    for ingr_idx in ids:\n",
    "        ingr_name = ingrs_vocab[ingr_idx]\n",
    "        if ingr_name == '<pad>':\n",
    "            break\n",
    "        if ingr_name == '<end>':\n",
    "            break\n",
    "        gen_ingrs.append(ingr_name)\n",
    "    return gen_ingrs\n",
    "\n",
    "\n",
    "def mask_from_eos(ids, eos_value, mult_before=True):\n",
    "    mask = torch.ones(ids.size()).to(device).byte()\n",
    "    mask_aux = torch.ones(ids.size(0)).to(device).byte()\n",
    "\n",
    "    # find eos in ingredient prediction\n",
    "    for idx in range(ids.size(1)):\n",
    "        # force mask to have 1s in the first position to avoid division by 0 when predictions start with eos\n",
    "        if idx == 0:\n",
    "            continue\n",
    "        if mult_before:\n",
    "            mask[:, idx] = mask[:, idx] * mask_aux\n",
    "            mask_aux = mask_aux * (ids[:, idx] != eos_value)\n",
    "        else:\n",
    "            mask_aux = mask_aux * (ids[:, idx] != eos_value)\n",
    "            mask[:, idx] = mask[:, idx] * mask_aux\n",
    "    return mask\n",
    "print (instrs_vocab_size, ingr_vocab_size)"
   ]
  },
  {
   "cell_type": "code",
   "execution_count": 34,
   "metadata": {},
   "outputs": [
    {
     "name": "stdout",
     "output_type": "stream",
     "text": [
      "loaded model\n",
      "Elapsed time: 2.504643201828003\n"
     ]
    }
   ],
   "source": [
    "t = time.time()\n",
    "import sys; sys.argv=['']; del sys\n",
    "args = get_parser()\n",
    "args.maxseqlen = 15\n",
    "args.ingrs_only=False\n",
    "model = get_model(args, ingr_vocab_size, instrs_vocab_size)\n",
    "# Load the trained model parameters\n",
    "model_path = os.path.join('/home/ct2020dl5787/inversecooking/model/checkpoints', 'modelbest.ckpt')\n",
    "model.load_state_dict(torch.load(model_path, map_location=map_loc))\n",
    "model.to(device)\n",
    "model.eval()\n",
    "model.ingrs_only = False\n",
    "model.recipe_only = False\n",
    "model.reduction = 'none'\n",
    "print ('loaded model')\n",
    "print (\"Elapsed time:\", time.time() -t)\n"
   ]
  },
  {
   "cell_type": "markdown",
   "metadata": {},
   "source": [
    "Set ```use_urls = True``` to get recipes for images in ```demo_urls```. \n",
    "\n",
    "You can also set ```use_urls = False``` and get recipes for images in the path in ```data_dir/test_imgs```."
   ]
  },
  {
   "cell_type": "code",
   "execution_count": 144,
   "metadata": {
    "scrolled": true
   },
   "outputs": [],
   "source": [
    "import requests\n",
    "from io import BytesIO\n",
    "import random\n",
    "from collections import Counter\n",
    "unpickled_df = pd.read_pickle(\"df_recipe1023.pkl\")\n",
    "use_urls = True # set to true to load images from demo_urls instead of those in test_imgs folder\n",
    "show_anyways = False #if True, it will show the recipe even if it's not valid\n",
    "image_folder = os.path.join('/home/ct2020dl5787/inversecooking/data/'+'demo_imgs')\n",
    "#TODO1:load data\n",
    "# if not use_urls:\n",
    "#     demo_imgs = os.listdir(image_folder)\n",
    "#     random.shuffle(demo_imgs)\n",
    "\n",
    "# demo_urls = ['https://food.fnr.sndimg.com/content/dam/images/food/fullset/2013/12/9/0/FNK_Cheesecake_s4x3.jpg.rend.hgtvcom.826.620.suffix/1387411272847.jpeg',\n",
    "#          'https://www.196flavors.com/wp-content/uploads/2014/10/california-roll-3-FP.jpg']\n",
    "demo_urls = unpickled_df[\"url\"].tolist()\n",
    "demo_files = demo_urls if use_urls else demo_imgs\n",
    "# demo_files = demo_files"
   ]
  },
  {
   "cell_type": "code",
   "execution_count": 180,
   "metadata": {
    "scrolled": true
   },
   "outputs": [],
   "source": [
    "##STEP1: run image\n",
    "err_pic = []\n",
    "img_file_list = []\n",
    "start = time.time()\n",
    "for img_file in demo_files:\n",
    "    \n",
    "#    if use_urls:\n",
    "    response = requests.get(img_file)\n",
    "    try:\n",
    "        image = Image.open(BytesIO(response.content))\n",
    "    \n",
    "        transf_list = []\n",
    "        transf_list.append(transforms.Resize(256))\n",
    "        transf_list.append(transforms.CenterCrop(224))\n",
    "        transform = transforms.Compose(transf_list)\n",
    "\n",
    "        image_transf = transform(image)\n",
    "        image_tensor = to_input_transf(image_transf).unsqueeze(0).to(device)\n",
    "        \n",
    "        plt.imshow(image_transf)\n",
    "        plt.axis('off')\n",
    "        plt.show()\n",
    "        plt.close()\n",
    "        \n",
    "        num_valid = 1\n",
    "        img_file_list.append(img_file)\n",
    "        if img_file == demo_files[0]:\n",
    "            print(img_file)\n",
    "            image_all = image_tensor\n",
    "        else:\n",
    "             image_all = torch.cat((image_all,image_tensor))\n",
    "    except:\n",
    "        print('error image')\n",
    "        pass\n"
   ]
  },
  {
   "cell_type": "code",
   "execution_count": 176,
   "metadata": {},
   "outputs": [],
   "source": [
    "##step2: run ingredient_decoder  \n",
    "## batch_size could be changed\n",
    "\n",
    "outputs = dict()\n",
    "recipt_all = []\n",
    "batch_size = 100\n",
    "\n",
    "\n",
    "for i in range(image_all.shape[0]//batch_size + 1):\n",
    "\n",
    "    img_features = model.image_encoder(image_all[i*batch_size : (i+1)*batch_size])\n",
    "    ingr_ids, ingr_probs = model.ingredient_decoder.sample(None,None,greedy = True,temperature=1.0,\n",
    "                                                           img_features=img_features, first_token_value=0,replacement=False)\n",
    "    \n",
    "    sample_mask = mask_from_eos(ingr_ids, eos_value=0, mult_before=False)\n",
    "    ingr_ids[sample_mask == 0] = 0\n",
    "\n",
    "    outputs['ingr_ids'] = ingr_ids\n",
    "    outputs['ingr_probs'] = ingr_probs.data\n",
    "\n",
    "    ingr_ids = outputs['ingr_ids'].cpu().numpy()\n",
    "    recipe = list(map(lambda x : get_ingrs(x), ingr_ids))\n",
    "        \n",
    "    recipt_all.extend(recipe)"
   ]
  },
  {
   "cell_type": "code",
   "execution_count": 179,
   "metadata": {
    "scrolled": false
   },
   "outputs": [
    {
     "data": {
      "text/html": [
       "<div>\n",
       "<style scoped>\n",
       "    .dataframe tbody tr th:only-of-type {\n",
       "        vertical-align: middle;\n",
       "    }\n",
       "\n",
       "    .dataframe tbody tr th {\n",
       "        vertical-align: top;\n",
       "    }\n",
       "\n",
       "    .dataframe thead th {\n",
       "        text-align: right;\n",
       "    }\n",
       "</style>\n",
       "<table border=\"1\" class=\"dataframe\">\n",
       "  <thead>\n",
       "    <tr style=\"text-align: right;\">\n",
       "      <th></th>\n",
       "      <th>id</th>\n",
       "      <th>ingredients</th>\n",
       "      <th>instructions</th>\n",
       "      <th>url</th>\n",
       "      <th>generate_ingre</th>\n",
       "    </tr>\n",
       "  </thead>\n",
       "  <tbody>\n",
       "    <tr>\n",
       "      <th>0</th>\n",
       "      <td>00003a70b1</td>\n",
       "      <td>[2 12 cups milk, 1 12 cups water, 14 cup butte...</td>\n",
       "      <td>[Preheat oven to 350 degrees Fahrenheit., Spra...</td>\n",
       "      <td>http://img.sndimg.com/food/image/upload/w_512,...</td>\n",
       "      <td>[cheese, onion, pepper, potato, milk, salt, bu...</td>\n",
       "    </tr>\n",
       "    <tr>\n",
       "      <th>1</th>\n",
       "      <td>000075604a</td>\n",
       "      <td>[2 Chicken thighs, 2 tsp Kombu tea, 1 White pe...</td>\n",
       "      <td>[Pierce the skin of the chicken with a fork or...</td>\n",
       "      <td>https://img-global.cpcdn.com/001_recipes/58069...</td>\n",
       "      <td>[chicken, pepper, salt, lemon, oil, paprika, j...</td>\n",
       "    </tr>\n",
       "    <tr>\n",
       "      <th>2</th>\n",
       "      <td>00007bfd16</td>\n",
       "      <td>[6 -8 cups fresh rhubarb, or, 6 -8 cups frozen...</td>\n",
       "      <td>[Put ingredients in a buttered 9 x 12 x 2-inch...</td>\n",
       "      <td>http://img.sndimg.com/food/image/upload/w_512,...</td>\n",
       "      <td>[sugar, egg, flour, rhubarb, salt, butter, cin...</td>\n",
       "    </tr>\n",
       "    <tr>\n",
       "      <th>3</th>\n",
       "      <td>000095fc1d</td>\n",
       "      <td>[8 ounces, weight Light Fat Free Vanilla Yogur...</td>\n",
       "      <td>[Layer all ingredients in a serving dish.]</td>\n",
       "      <td>http://tastykitchen.com/recipes/wp-content/upl...</td>\n",
       "      <td>[strawberries, yogurt, blueberries, banana, al...</td>\n",
       "    </tr>\n",
       "    <tr>\n",
       "      <th>4</th>\n",
       "      <td>0000b1e2b5</td>\n",
       "      <td>[1 teaspoon fennel seeds, 1 pound pork tenderl...</td>\n",
       "      <td>[Preheat oven to 350F with rack in middle., Cr...</td>\n",
       "      <td>http://assets.epicurious.com/photos/5609a4d662...</td>\n",
       "      <td>[pepper, oil, salt, clove, onion, parsley]</td>\n",
       "    </tr>\n",
       "  </tbody>\n",
       "</table>\n",
       "</div>"
      ],
      "text/plain": [
       "           id                                        ingredients  \\\n",
       "0  00003a70b1  [2 12 cups milk, 1 12 cups water, 14 cup butte...   \n",
       "1  000075604a  [2 Chicken thighs, 2 tsp Kombu tea, 1 White pe...   \n",
       "2  00007bfd16  [6 -8 cups fresh rhubarb, or, 6 -8 cups frozen...   \n",
       "3  000095fc1d  [8 ounces, weight Light Fat Free Vanilla Yogur...   \n",
       "4  0000b1e2b5  [1 teaspoon fennel seeds, 1 pound pork tenderl...   \n",
       "\n",
       "                                        instructions  \\\n",
       "0  [Preheat oven to 350 degrees Fahrenheit., Spra...   \n",
       "1  [Pierce the skin of the chicken with a fork or...   \n",
       "2  [Put ingredients in a buttered 9 x 12 x 2-inch...   \n",
       "3         [Layer all ingredients in a serving dish.]   \n",
       "4  [Preheat oven to 350F with rack in middle., Cr...   \n",
       "\n",
       "                                                 url  \\\n",
       "0  http://img.sndimg.com/food/image/upload/w_512,...   \n",
       "1  https://img-global.cpcdn.com/001_recipes/58069...   \n",
       "2  http://img.sndimg.com/food/image/upload/w_512,...   \n",
       "3  http://tastykitchen.com/recipes/wp-content/upl...   \n",
       "4  http://assets.epicurious.com/photos/5609a4d662...   \n",
       "\n",
       "                                      generate_ingre  \n",
       "0  [cheese, onion, pepper, potato, milk, salt, bu...  \n",
       "1  [chicken, pepper, salt, lemon, oil, paprika, j...  \n",
       "2  [sugar, egg, flour, rhubarb, salt, butter, cin...  \n",
       "3  [strawberries, yogurt, blueberries, banana, al...  \n",
       "4         [pepper, oil, salt, clove, onion, parsley]  "
      ]
     },
     "execution_count": 179,
     "metadata": {},
     "output_type": "execute_result"
    }
   ],
   "source": [
    "##step3:save info\n",
    "generate_data = pd.DataFrame([img_file_list,recipt_all]).T\n",
    "generate_data = generate_data.rename(columns={0: \"url\", 1: \"generate_ingre\"})\n",
    "all_info = pd.merge(unpickled_df, generate_data , how='inner', on=['url'])\n",
    "all_info.to_pickle('output/recipt_only.pkl')\n",
    "all_info.head()"
   ]
  },
  {
   "cell_type": "code",
   "execution_count": null,
   "metadata": {},
   "outputs": [],
   "source": [
    "##step4:evalutation\n",
    "def get_ingred_f1(pred, label):\n",
    "    '''\n",
    "    input: \n",
    "        pred: a list of predicted ingredients\n",
    "        label: a list of label ingredients\n",
    "    output: \n",
    "        F-1 score of the prediction\n",
    "    \n",
    "    i.e.  \n",
    "    in: \n",
    "        pred = [\"tomato\", \"sugar\", \"beef\"]\n",
    "        label = [\"potato\", \"tomato\"]\n",
    "     \n",
    "    out: \n",
    "        0.4\n",
    "    '''\n",
    "    intersection = list(set(pred) & set(label))\n",
    "    precision = len(intersection) / len(pred)\n",
    "    recall = len(intersection) / len(label)\n",
    "    f1 = 2 * precision * recall / (precision + recall)\n",
    "    return f1\n",
    "\n",
    "\n",
    "def get_ingred_IOU(pred, label):\n",
    "    '''\n",
    "    input: \n",
    "        pred: a list of predicted ingredients\n",
    "        label: a list of label ingredients\n",
    "    output: \n",
    "        IOU of the prediction\n",
    "    \n",
    "    i.e.  \n",
    "    in: \n",
    "        pred = [\"tomato\", \"sugar\", \"beef\"]\n",
    "        label = [\"potato\", \"tomato\"]\n",
    "     \n",
    "    out: \n",
    "        0.25\n",
    "    '''\n",
    "    intersection = len(list(set(pred) & set(label)))\n",
    "    union = len(list(set(pred) | set(label)))\n",
    "    iou = intersection / union\n",
    "    return iou\n",
    "\n",
    "\n",
    "import nltk\n",
    "import string\n",
    "def get_bleu_n_score(pred, label, n = 4):\n",
    "    \n",
    "    '''\n",
    "    TODO: STEM not added\n",
    "    input: \n",
    "        pred: One string of predict recipe \n",
    "        label: One string of reference recipe\n",
    "        n(optional): up to n-gram.\n",
    "    output: \n",
    "        bleu score\n",
    "    \n",
    "    i.e.  \n",
    "    in: \n",
    "        pred = \"Add the buttter\"\n",
    "        label = \"Add half butter and mix well\"\n",
    "    out: \n",
    "        0.25\n",
    "    '''\n",
    "    weights = [1/n] * n\n",
    "    pred_list = pred.translate(str.maketrans('', '', string.punctuation)).split()\n",
    "    label_list = label.translate(str.maketrans('', '', string.punctuation)).split()\n",
    "    BLEUscore = nltk.translate.bleu_score.sentence_bleu([label_list], pred_list, weights)\n",
    "    return BLEUscore\n",
    "\n",
    "\n",
    "\n",
    "from nltk.translate.meteor_score import meteor_score\n",
    "def get_meteor_score(pred, label):\n",
    "    return meteor_score([label], pred)"
   ]
  }
 ],
 "metadata": {
  "kernelspec": {
   "display_name": "Python 3",
   "language": "python",
   "name": "python3"
  },
  "language_info": {
   "codemirror_mode": {
    "name": "ipython",
    "version": 3
   },
   "file_extension": ".py",
   "mimetype": "text/x-python",
   "name": "python",
   "nbconvert_exporter": "python",
   "pygments_lexer": "ipython3",
   "version": "3.7.6"
  }
 },
 "nbformat": 4,
 "nbformat_minor": 2
}
