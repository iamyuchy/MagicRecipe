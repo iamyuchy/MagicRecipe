{
 "cells": [
  {
   "cell_type": "markdown",
   "metadata": {},
   "source": [
    "## Inverse Cooking: Recipe Generation from Food Images"
   ]
  },
  {
   "cell_type": "code",
   "execution_count": 12,
   "metadata": {},
   "outputs": [],
   "source": [
    "import matplotlib.pyplot as plt\n",
    "import torch\n",
    "import torch.nn as nn\n",
    "import numpy as np\n",
    "import pandas as pd\n",
    "import os\n",
    "from args import get_parser\n",
    "import pickle\n",
    "from model import get_model\n",
    "from torchvision import transforms\n",
    "from utils.output_utils import prepare_output\n",
    "from PIL import Image\n",
    "import time\n",
    "\n",
    "class Vocabulary(object):\n",
    "    \"\"\"Simple vocabulary wrapper.\"\"\"\n",
    "    def __init__(self):\n",
    "        self.word2idx = {}\n",
    "        self.idx2word = {}\n",
    "        self.idx = 0\n",
    "\n",
    "    def add_word(self, word, idx=None):\n",
    "        if idx is None:\n",
    "            if not word in self.word2idx:\n",
    "                self.word2idx[word] = self.idx\n",
    "                self.idx2word[self.idx] = word\n",
    "                self.idx += 1\n",
    "            return self.idx\n",
    "        else:\n",
    "            if not word in self.word2idx:\n",
    "                self.word2idx[word] = idx\n",
    "                if idx in self.idx2word.keys():\n",
    "                    self.idx2word[idx].append(word)\n",
    "                else:\n",
    "                    self.idx2word[idx] = [word]\n",
    "\n",
    "                return idx\n",
    "\n",
    "    def __call__(self, word):\n",
    "        if not word in self.word2idx:\n",
    "            return self.word2idx['<pad>']\n",
    "        return self.word2idx[word]\n",
    "\n",
    "    def __len__(self):\n",
    "        return len(self.idx2word)\n",
    "    \n",
    "def get_true_ingre(ingrs_vocab, labels):\n",
    "\n",
    "    ilabels_gt = np.ones(20) * ingrs_vocab('<pad>')\n",
    "    pos = 0\n",
    "\n",
    "    true_ingr_idxs = []\n",
    "    for i in range(len(labels)):\n",
    "        true_ingr_idxs.append(ingrs_vocab(labels[i]))\n",
    "\n",
    "    for i in range(20):\n",
    "        if i >= len(labels):\n",
    "            label = '<pad>'\n",
    "        else:\n",
    "            label = labels[i]\n",
    "        label_idx = ingrs_vocab(label)\n",
    "        if label_idx not in ilabels_gt:\n",
    "            ilabels_gt[pos] = label_idx\n",
    "            pos += 1\n",
    "\n",
    "    ilabels_gt[pos] = ingrs_vocab('<end>')\n",
    "    ingrs_gt = torch.from_numpy(ilabels_gt).long()\n",
    "    true_ingrs = ingrs_gt\n",
    "    return true_ingrs\n",
    "\n",
    "\n",
    "def mask_from_eos(ids, eos_value, mult_before=True):\n",
    "    mask = torch.ones(ids.size()).to(device).byte()\n",
    "    mask_aux = torch.ones(ids.size(0)).to(device).byte()\n",
    "\n",
    "    # find eos in ingredient prediction\n",
    "    for idx in range(ids.size(1)):\n",
    "        # force mask to have 1s in the first position to avoid division by 0 when predictions start with eos\n",
    "        if idx == 0:\n",
    "            continue\n",
    "        if mult_before:\n",
    "            mask[:, idx] = mask[:, idx] * mask_aux\n",
    "            mask_aux = mask_aux * (ids[:, idx] != eos_value)\n",
    "        else:\n",
    "            mask_aux = mask_aux * (ids[:, idx] != eos_value)\n",
    "            mask[:, idx] = mask[:, idx] * mask_aux\n",
    "    return mask"
   ]
  },
  {
   "cell_type": "markdown",
   "metadata": {},
   "source": [
    "Set ```data_dir``` to the path including vocabularies and model checkpoint"
   ]
  },
  {
   "cell_type": "code",
   "execution_count": 13,
   "metadata": {},
   "outputs": [],
   "source": [
    "data_dir = ''"
   ]
  },
  {
   "cell_type": "code",
   "execution_count": 14,
   "metadata": {},
   "outputs": [],
   "source": [
    "# code will run in gpu if available and if the flag is set to True, else it will run on cpu\n",
    "use_gpu = True\n",
    "device = torch.device('cuda' if torch.cuda.is_available() and use_gpu else 'cpu')\n",
    "map_loc = None if torch.cuda.is_available() and use_gpu else 'cpu'\n",
    "\n",
    "\n",
    "# device = torch.device('cpu')\n",
    "# map_loc = None\n"
   ]
  },
  {
   "cell_type": "code",
   "execution_count": 61,
   "metadata": {},
   "outputs": [
    {
     "name": "stdout",
     "output_type": "stream",
     "text": [
      "cuda\n"
     ]
    }
   ],
   "source": [
    "print(device)"
   ]
  },
  {
   "cell_type": "code",
   "execution_count": 15,
   "metadata": {},
   "outputs": [],
   "source": [
    "# code below was used to save vocab files so that they can be loaded without Vocabulary class\n",
    "#ingrs_vocab = pickle.load(open(os.path.join(data_dir, 'final_recipe1m_vocab_ingrs.pkl'), 'rb'))\n",
    "#ingrs_vocab = [min(w, key=len) if not isinstance(w, str) else w for w in ingrs_vocab.idx2word.values()]\n",
    "#vocab = pickle.load(open(os.path.join(data_dir, 'final_recipe1m_vocab_toks.pkl'), 'rb')).idx2word\n",
    "#pickle.dump(ingrs_vocab, open('../demo/ingr_vocab.pkl', 'wb'))\n",
    "#pickle.dump(vocab, open('../demo/instr_vocab.pkl', 'wb'))\n",
    "\n",
    "ingrs_vocab = pickle.load(open(os.path.join(data_dir, 'ingr_vocab.pkl'), 'rb'))\n",
    "vocab = pickle.load(open(os.path.join(data_dir, 'instr_vocab.pkl'), 'rb'))\n",
    "\n",
    "ingr_vocab_size = len(ingrs_vocab)\n",
    "instrs_vocab_size = len(vocab)\n",
    "output_dim = instrs_vocab_size"
   ]
  },
  {
   "cell_type": "code",
   "execution_count": null,
   "metadata": {},
   "outputs": [],
   "source": []
  },
  {
   "cell_type": "code",
   "execution_count": null,
   "metadata": {},
   "outputs": [],
   "source": []
  },
  {
   "cell_type": "code",
   "execution_count": null,
   "metadata": {},
   "outputs": [],
   "source": []
  },
  {
   "cell_type": "code",
   "execution_count": 16,
   "metadata": {},
   "outputs": [
    {
     "name": "stderr",
     "output_type": "stream",
     "text": [
      "/home/ct2020dl5787/anaconda3/lib/python3.7/site-packages/torch/nn/functional.py:52: UserWarning: size_average and reduce args will be deprecated, please use reduction='none' instead.\n",
      "  warnings.warn(warning.format(ret))\n"
     ]
    },
    {
     "name": "stdout",
     "output_type": "stream",
     "text": [
      "loaded model\n",
      "Elapsed time: 2.5731148719787598\n"
     ]
    }
   ],
   "source": [
    "t = time.time()\n",
    "import sys; sys.argv=['']; del sys\n",
    "args = get_parser()\n",
    "args.maxseqlen = 15\n",
    "args.ingrs_only=False\n",
    "model = get_model(args, ingr_vocab_size, instrs_vocab_size)\n",
    "# Load the trained model parameters\n",
    "model_path = os.path.join('/home/ct2020dl5787/inversecooking/model/checkpoints', 'modelbest.ckpt')\n",
    "model.load_state_dict(torch.load(model_path, map_location=map_loc))\n",
    "model.to(device)\n",
    "model.eval()\n",
    "model.ingrs_only = False\n",
    "model.recipe_only = False\n",
    "model.reduction = 'none'\n",
    "print ('loaded model')\n",
    "print (\"Elapsed time:\", time.time() -t)\n"
   ]
  },
  {
   "cell_type": "code",
   "execution_count": null,
   "metadata": {},
   "outputs": [],
   "source": []
  },
  {
   "cell_type": "code",
   "execution_count": 17,
   "metadata": {},
   "outputs": [],
   "source": [
    "transf_list_batch = []\n",
    "transf_list_batch.append(transforms.ToTensor())\n",
    "transf_list_batch.append(transforms.Normalize((0.485, 0.456, 0.406), \n",
    "                                              (0.229, 0.224, 0.225)))\n",
    "to_input_transf = transforms.Compose(transf_list_batch)"
   ]
  },
  {
   "cell_type": "code",
   "execution_count": 18,
   "metadata": {},
   "outputs": [],
   "source": [
    "greedy = [True, False, False, False]\n",
    "beam = [-1, -1, -1, -1]\n",
    "temperature = 1.0\n",
    "numgens = len(greedy)"
   ]
  },
  {
   "cell_type": "markdown",
   "metadata": {},
   "source": [
    "Set ```use_urls = True``` to get recipes for images in ```demo_urls```. \n",
    "\n",
    "You can also set ```use_urls = False``` and get recipes for images in the path in ```data_dir/test_imgs```."
   ]
  },
  {
   "cell_type": "code",
   "execution_count": 43,
   "metadata": {
    "scrolled": true
   },
   "outputs": [],
   "source": [
    "import requests\n",
    "from io import BytesIO\n",
    "import random\n",
    "from collections import Counter\n",
    "unpickled_df = pd.read_pickle(\"df_recipe1023.pkl\")\n",
    "use_urls = True # set to true to load images from demo_urls instead of those in test_imgs folder\n",
    "show_anyways = False #if True, it will show the recipe even if it's not valid\n",
    "image_folder = os.path.join('/home/ct2020dl5787/inversecooking/data/'+'demo_imgs')\n",
    "true_ingre_1k = pd.read_pickle(\"true_ingre_1k.pickle\")\n",
    "ablation_vocab = pickle.load(open(\"../data/recipe1m_vocab_ingrs.pkl\", \"rb\" ) )\n",
    "#TODO1:load data\n",
    "# if not use_urls:\n",
    "#     demo_imgs = os.listdir(image_folder)\n",
    "#     random.shuffle(demo_imgs)\n",
    "\n",
    "#demo_urls = ['https://food.fnr.sndimg.com/content/dam/images/food/fullset/2013/12/9/0/FNK_Cheesecake_s4x3.jpg.rend.hgtvcom.826.620.suffix/1387411272847.jpeg',\n",
    "#          'https://www.196flavors.com/wp-content/uploads/2014/10/california-roll-3-FP.jpg']\n",
    "demo_urls = unpickled_df[\"url\"].tolist()\n",
    "demo_files = demo_urls if use_urls else demo_imgs\n",
    "\n",
    "\n"
   ]
  },
  {
   "cell_type": "code",
   "execution_count": 22,
   "metadata": {},
   "outputs": [
    {
     "data": {
      "text/plain": [
       "['http://img.sndimg.com/food/image/upload/w_512,h_512,c_fit,fl_progressive,q_95/v1/img/recipes/47/91/49/picaYYmb9.jpg']"
      ]
     },
     "execution_count": 22,
     "metadata": {},
     "output_type": "execute_result"
    }
   ],
   "source": [
    "demo_files"
   ]
  },
  {
   "cell_type": "code",
   "execution_count": 26,
   "metadata": {},
   "outputs": [
    {
     "data": {
      "text/plain": [
       "str"
      ]
     },
     "execution_count": 26,
     "metadata": {},
     "output_type": "execute_result"
    }
   ],
   "source": [
    "type(img_file)"
   ]
  },
  {
   "cell_type": "code",
   "execution_count": 44,
   "metadata": {
    "scrolled": true
   },
   "outputs": [
    {
     "name": "stdout",
     "output_type": "stream",
     "text": [
      "0\n",
      "1\n",
      "2\n",
      "3\n",
      "4\n",
      "5\n",
      "6\n",
      "7\n",
      "8\n",
      "9\n",
      "10\n",
      "11\n",
      "12\n",
      "13\n",
      "14\n",
      "15\n"
     ]
    },
    {
     "ename": "AttributeError",
     "evalue": "'OSError' object has no attribute 'message'",
     "output_type": "error",
     "traceback": [
      "\u001b[0;31m---------------------------------------------------------------------------\u001b[0m",
      "\u001b[0;31mOSError\u001b[0m                                   Traceback (most recent call last)",
      "\u001b[0;32m<ipython-input-44-853434e8ebb2>\u001b[0m in \u001b[0;36m<module>\u001b[0;34m\u001b[0m\n\u001b[1;32m     12\u001b[0m     \u001b[0;32mtry\u001b[0m\u001b[0;34m:\u001b[0m\u001b[0;34m\u001b[0m\u001b[0;34m\u001b[0m\u001b[0m\n\u001b[0;32m---> 13\u001b[0;31m         \u001b[0mimage\u001b[0m \u001b[0;34m=\u001b[0m \u001b[0mImage\u001b[0m\u001b[0;34m.\u001b[0m\u001b[0mopen\u001b[0m\u001b[0;34m(\u001b[0m\u001b[0mBytesIO\u001b[0m\u001b[0;34m(\u001b[0m\u001b[0mresponse\u001b[0m\u001b[0;34m.\u001b[0m\u001b[0mcontent\u001b[0m\u001b[0;34m)\u001b[0m\u001b[0;34m)\u001b[0m\u001b[0;34m\u001b[0m\u001b[0;34m\u001b[0m\u001b[0m\n\u001b[0m\u001b[1;32m     14\u001b[0m \u001b[0;34m\u001b[0m\u001b[0m\n",
      "\u001b[0;32m~/anaconda3/lib/python3.7/site-packages/PIL/Image.py\u001b[0m in \u001b[0;36mopen\u001b[0;34m(fp, mode)\u001b[0m\n\u001b[1;32m   2821\u001b[0m         \u001b[0mwarnings\u001b[0m\u001b[0;34m.\u001b[0m\u001b[0mwarn\u001b[0m\u001b[0;34m(\u001b[0m\u001b[0mmessage\u001b[0m\u001b[0;34m)\u001b[0m\u001b[0;34m\u001b[0m\u001b[0;34m\u001b[0m\u001b[0m\n\u001b[0;32m-> 2822\u001b[0;31m     \u001b[0;32mraise\u001b[0m \u001b[0mIOError\u001b[0m\u001b[0;34m(\u001b[0m\u001b[0;34m\"cannot identify image file %r\"\u001b[0m \u001b[0;34m%\u001b[0m \u001b[0;34m(\u001b[0m\u001b[0mfilename\u001b[0m \u001b[0;32mif\u001b[0m \u001b[0mfilename\u001b[0m \u001b[0;32melse\u001b[0m \u001b[0mfp\u001b[0m\u001b[0;34m)\u001b[0m\u001b[0;34m)\u001b[0m\u001b[0;34m\u001b[0m\u001b[0;34m\u001b[0m\u001b[0m\n\u001b[0m\u001b[1;32m   2823\u001b[0m \u001b[0;34m\u001b[0m\u001b[0m\n",
      "\u001b[0;31mOSError\u001b[0m: cannot identify image file <_io.BytesIO object at 0x7fe6ae177530>",
      "\nDuring handling of the above exception, another exception occurred:\n",
      "\u001b[0;31mAttributeError\u001b[0m                            Traceback (most recent call last)",
      "\u001b[0;32m<ipython-input-44-853434e8ebb2>\u001b[0m in \u001b[0;36m<module>\u001b[0;34m\u001b[0m\n\u001b[1;32m     58\u001b[0m         \u001b[0minfo_all\u001b[0m\u001b[0;34m.\u001b[0m\u001b[0mappend\u001b[0m\u001b[0;34m(\u001b[0m\u001b[0;34m[\u001b[0m\u001b[0mimg_file\u001b[0m\u001b[0;34m,\u001b[0m\u001b[0mgenerate_ing\u001b[0m\u001b[0;34m,\u001b[0m \u001b[0mgenerate_recipt\u001b[0m\u001b[0;34m,\u001b[0m\u001b[0mgenerate_title\u001b[0m\u001b[0;34m,\u001b[0m\u001b[0mgenerate_score\u001b[0m\u001b[0;34m]\u001b[0m\u001b[0;34m)\u001b[0m\u001b[0;34m\u001b[0m\u001b[0;34m\u001b[0m\u001b[0m\n\u001b[1;32m     59\u001b[0m     \u001b[0;32mexcept\u001b[0m \u001b[0mException\u001b[0m \u001b[0;32mas\u001b[0m \u001b[0mex\u001b[0m\u001b[0;34m:\u001b[0m\u001b[0;34m\u001b[0m\u001b[0;34m\u001b[0m\u001b[0m\n\u001b[0;32m---> 60\u001b[0;31m         \u001b[0mprint\u001b[0m\u001b[0;34m(\u001b[0m\u001b[0mex\u001b[0m\u001b[0;34m.\u001b[0m\u001b[0mmessage\u001b[0m\u001b[0;34m)\u001b[0m\u001b[0;34m\u001b[0m\u001b[0;34m\u001b[0m\u001b[0m\n\u001b[0m\u001b[1;32m     61\u001b[0m         \u001b[0;32mpass\u001b[0m\u001b[0;34m\u001b[0m\u001b[0;34m\u001b[0m\u001b[0m\n\u001b[1;32m     62\u001b[0m \u001b[0;34m\u001b[0m\u001b[0m\n",
      "\u001b[0;31mAttributeError\u001b[0m: 'OSError' object has no attribute 'message'"
     ]
    }
   ],
   "source": [
    "info_all = []\n",
    "err_pic = []\n",
    "start = time.time()\n",
    "index = 0\n",
    "for img_file in demo_files:\n",
    "    print(index)\n",
    "    index += 1\n",
    "\n",
    "    \n",
    "#    if use_urls:\n",
    "    response = requests.get(img_file)\n",
    "    try:\n",
    "        image = Image.open(BytesIO(response.content))\n",
    "    \n",
    "            \n",
    "#     else:\n",
    "#         image_path = os.path.join(image_folder, img_file)\n",
    "#         image = Image.open(image_path).convert('RGB')\n",
    "\n",
    "        transf_list = []\n",
    "        transf_list.append(transforms.Resize(256))\n",
    "        transf_list.append(transforms.CenterCrop(224))\n",
    "        transform = transforms.Compose(transf_list)\n",
    "\n",
    "        image_transf = transform(image)\n",
    "        image_tensor = to_input_transf(image_transf).unsqueeze(0).to(device)\n",
    "\n",
    "       # plt.imshow(image_transf)\n",
    "       # plt.axis('off')\n",
    "      #  plt.show()\n",
    "      #  plt.close()\n",
    "\n",
    "        num_valid = 1\n",
    "\n",
    "        generate_ing = []\n",
    "        generate_recipt = []\n",
    "        generate_title = []\n",
    "        generate_score = []\n",
    "        \n",
    "        labels = true_ingre_1k[img_file]\n",
    "        true_ingre = get_true_ingre(ablation_vocab, labels).reshape(-1,20).cuda()\n",
    "        for i in range(numgens):\n",
    "           \n",
    "            with torch.no_grad():\n",
    "                outputs = model.sample(image_tensor, greedy=greedy[i],temperature=temperature, beam=beam[i], true_ingrs=true_ingre)\n",
    "           \n",
    "            ingr_ids = outputs['ingr_ids'].cpu().numpy()\n",
    "           \n",
    "            recipe_ids = outputs['recipe_ids'].cpu().numpy()\n",
    "           \n",
    "            outs, valid = prepare_output(recipe_ids[0], ingr_ids[0], ingrs_vocab, vocab)\n",
    "            #TODO2: Save output  \n",
    "            generate_ing.append(outs['ingrs'])\n",
    "            generate_recipt.append(outs['recipe'])\n",
    "            generate_title.append(outs['title'])\n",
    "            generate_score.append([valid['is_valid'],valid['score']])\n",
    "\n",
    "        info_all.append([img_file,generate_ing, generate_recipt,generate_title,generate_score])\n",
    "    except Exception as ex:\n",
    "        pass\n",
    "        \n",
    "        \n",
    "print(start-time.time())\n",
    "    "
   ]
  },
  {
   "cell_type": "code",
   "execution_count": 34,
   "metadata": {},
   "outputs": [
    {
     "data": {
      "text/plain": [
       "[['http://img.sndimg.com/food/image/upload/w_512,h_512,c_fit,fl_progressive,q_95/v1/img/recipes/47/91/49/picaYYmb9.jpg',\n",
       "  [['cheese', 'onion', 'pepper', 'potato', 'milk', 'salt', 'butter', 'cream'],\n",
       "   ['cheese', 'onion', 'pepper', 'potato', 'milk', 'salt', 'butter', 'cream'],\n",
       "   ['cheese', 'onion', 'pepper', 'potato', 'milk', 'salt', 'butter', 'cream'],\n",
       "   ['cheese', 'onion', 'pepper', 'potato', 'milk', 'salt', 'butter', 'cream']],\n",
       "  [['Preheat oven to 350 degrees f (175 degrees c).',\n",
       "    'Grease a 9x13 inch baking dish.',\n",
       "    'In a large saucepan over medium heat, melt butter.',\n",
       "    'Stir in onion and cook until tender.',\n",
       "    'Stir in water, milk, and corn.',\n",
       "    'Bring to a boil, then reduce heat and simmer for 5 minutes.',\n",
       "    'Stir in potatoes and simmer for 10 minutes.',\n",
       "    'Pour into prepared baking dish.',\n",
       "    'Bake in preheated oven for 30 minutes, or until potatoes are tender.'],\n",
       "   ['In a heavy saucepan combine the potatoes, water, and onion.',\n",
       "    'Bring to a boil; reduce heat, cover, and simmer for 20 minutes or until tender.',\n",
       "    'Mash potatoes with a potato masher, or mash with a potato masher.',\n",
       "    'Preheat oven to 350 degrees f (175 degrees c).',\n",
       "    'Stir in corn, butter and milk, then fold in cheese.',\n",
       "    'Pour soup into a 2-quart baking dish.',\n",
       "    'Sprinkle with cornflakes.',\n",
       "    'Bake in preheated oven 35 to 40 minutes, or until the edges are lightly browned.'],\n",
       "   ['Peel and slice potatoes',\n",
       "    'Boil in water with the onion until done, drain and set aside',\n",
       "    'Preheat oven to 350f',\n",
       "    'Put a pot on to boil',\n",
       "    'Cut up bacon add to pot, add butter, and fry until brown',\n",
       "    'Add in potatoes and corn, and mix well together',\n",
       "    'In a greased 9x13 inch baking pan put a layer of potatoes',\n",
       "    'Add cheese sauce, and corn mix well',\n",
       "    'Cook for 45 min'],\n",
       "   ['Combine all ingredients together in a small saucepan and bring to boil.',\n",
       "    'Reduce the heat and simmer uncovered 20 minutes.']],\n",
       "  ['Scalloped potatoes',\n",
       "   'Baked potato soup',\n",
       "   'Potato casserole',\n",
       "   'Creamed corn'],\n",
       "  [[True, 0.5392156862745098],\n",
       "   [True, 0.5714285714285714],\n",
       "   [True, 0.5862068965517241],\n",
       "   [True, 0.8518518518518519]]],\n",
       " ['https://img-global.cpcdn.com/001_recipes/5806945844854784/0x0/photo.jpg',\n",
       "  [['chicken', 'pepper', 'salt', 'lemon', 'oil', 'paprika', 'juice'],\n",
       "   ['chicken', 'pepper', 'salt', 'lemon', 'oil', 'paprika', 'juice'],\n",
       "   ['chicken', 'pepper', 'salt', 'lemon', 'oil', 'paprika', 'juice'],\n",
       "   ['chicken', 'pepper', 'salt', 'lemon', 'oil', 'paprika', 'juice']],\n",
       "  [['Preheat oven to 350 degrees f (175 degrees c).',\n",
       "    'Season chicken with salt and pepper.',\n",
       "    'Place chicken in a 9x13 inch baking dish.',\n",
       "    'Pour the tea over the chicken.',\n",
       "    'Bake in the preheated oven for 1 hour, or until the chicken is no longer pink and the juices run clear.'],\n",
       "   ['Rinse the chicken and put in the crock pot.',\n",
       "    'Mix the rest of ingredients together and pour over the chicken.',\n",
       "    'Cook on low 8 hours or high 5 1/2 hours, then reduce to low and cook 3 1/2 hours longer.'],\n",
       "   ['Preheat grill for medium heat.',\n",
       "    'Place the chicken thighs on aluminum foil, and sprinkle with salt and pepper.',\n",
       "    'Place the onion on top of the chicken skin side up.',\n",
       "    'Wrap the foil around the chicken, and cook for 35 minutes, until the juices run clear.'],\n",
       "   ['Preheat the oven to 400 degrees.',\n",
       "    'Rinse the chicken legs and pat dry well.',\n",
       "    'In a large plastic bag, combine the ingredients and add the meat.',\n",
       "    'Marinate it for 3 hours in the fridge.',\n",
       "    'Transfer the meat legs to an ovenproof dish, discarding the marinade.',\n",
       "    'Bake for 30 minutes or until cooked through.']],\n",
       "  ['Chicken drums - easy',\n",
       "   'Chicken in the crock pot',\n",
       "   'Grilled chicken thighs',\n",
       "   'Chicken legs in the microwave'],\n",
       "  [[True, 0.6911764705882353],\n",
       "   [True, 0.6037735849056604],\n",
       "   [True, 0.6],\n",
       "   [True, 0.6164383561643836]]],\n",
       " ['http://img.sndimg.com/food/image/upload/w_512,h_512,c_fit,fl_progressive,q_95/v1/img/recipes/40/86/94/picNQPjbC.jpg',\n",
       "  [['sugar',\n",
       "    'egg',\n",
       "    'flour',\n",
       "    'rhubarb',\n",
       "    'salt',\n",
       "    'butter',\n",
       "    'cinnamon',\n",
       "    'strawberries',\n",
       "    'water'],\n",
       "   ['sugar',\n",
       "    'egg',\n",
       "    'flour',\n",
       "    'rhubarb',\n",
       "    'salt',\n",
       "    'butter',\n",
       "    'cinnamon',\n",
       "    'strawberries',\n",
       "    'water'],\n",
       "   ['sugar',\n",
       "    'egg',\n",
       "    'flour',\n",
       "    'rhubarb',\n",
       "    'salt',\n",
       "    'butter',\n",
       "    'cinnamon',\n",
       "    'strawberries',\n",
       "    'water'],\n",
       "   ['sugar',\n",
       "    'egg',\n",
       "    'flour',\n",
       "    'rhubarb',\n",
       "    'salt',\n",
       "    'butter',\n",
       "    'cinnamon',\n",
       "    'strawberries',\n",
       "    'water']],\n",
       "  [['Preheat oven to 350 degrees f (175 degrees c).',\n",
       "    'Grease a 9x13 inch baking dish.',\n",
       "    'In a large bowl, mix together the rhubarb, sugar, and water.',\n",
       "    'Pour into the prepared baking dish.',\n",
       "    'In a small bowl, mix together the cake mix and melted butter.',\n",
       "    'Sprinkle over the rhubarb mixture.',\n",
       "    'Bake in the preheated oven for 45 minutes, or until a toothpick inserted into the center of the cake comes out clean.'],\n",
       "   ['In a small saucepan, dissolve the gelatin in 1 cup of water.',\n",
       "    'Set aside to cool.',\n",
       "    'In a large bowl, combine the rhubarb with the gelatin mixture, sugar and remaining 1/2 cup water.',\n",
       "    'Mix until combined.',\n",
       "    'Pour into a 9x13 inch baking dish.',\n",
       "    'Bake at 325 degrees f (165 degrees c) for 1 hour.',\n",
       "    'Cool in the refrigerator before serving, if desired.'],\n",
       "   ['Preheat oven to 350f.',\n",
       "    'Pour the rhubarb into a large pan and cover with water.',\n",
       "    'Add sugar and jell-o and simmer gently for 15 minutes.',\n",
       "    'Pour the liquid from the rhubarb mixture over the rhubarb.',\n",
       "    'Pour melted butter over the top of the cake.',\n",
       "    'Put in oven and bake until top is brown.',\n",
       "    'Cool and cut into squares.'],\n",
       "   ['Preheat oven to 350 degrees fahrenheit.',\n",
       "    'In a greased 13 x 9 inch pan, spread rhubarb, sprinkle sugar over.',\n",
       "    'Dissolve gelatin in boiling water.',\n",
       "    'Add dry cake mix, butter and stir until it is crumbly.',\n",
       "    'Put the cake mix evenly over rhubarb mixture.',\n",
       "    'Bake at 350 degrees fahrenheit for 50 minutes.']],\n",
       "  ['Rhubarb dump cake',\n",
       "   'Rhubarb pie',\n",
       "   'Rhubarb dump cake',\n",
       "   'Rhubarb dump cake'],\n",
       "  [[True, 0.5625],\n",
       "   [True, 0.6352941176470588],\n",
       "   [True, 0.5789473684210527],\n",
       "   [True, 0.6714285714285714]]],\n",
       " ['http://tastykitchen.com/recipes/wp-content/uploads/sites/2/2011/06/IMG_2692-630x420-410x615.jpg',\n",
       "  [['strawberries', 'yogurt', 'blueberries', 'banana', 'almonds', 'seeds'],\n",
       "   ['strawberries', 'yogurt', 'blueberries', 'banana', 'almonds', 'seeds'],\n",
       "   ['strawberries', 'yogurt', 'blueberries', 'banana', 'almonds', 'seeds'],\n",
       "   ['strawberries', 'yogurt', 'blueberries', 'banana', 'almonds', 'seeds']],\n",
       "  [['Layer yogurt, strawberries and vanilla in parfait glass.',\n",
       "    'Repeat layers.'],\n",
       "   ['Mix half of the whipped topping and yogurt together.',\n",
       "    'Add the vanilla and stir again.',\n",
       "    'Place half of the strawberry slices on top and cover with the half of the cream mixture.',\n",
       "    'Repeat layers.',\n",
       "    'Top with the remaining strawberry slices.'],\n",
       "   ['Stir fat-free yogurt, and vanilla together in a bowl until evenly combined.',\n",
       "    'Fold whipped topping into the yogurt mixture, stirring gently.',\n",
       "    'Divide mixture between four parfait glasses or parfait glasses.'],\n",
       "   ['Combine berries and yogurt in a small bowl.',\n",
       "    'Spoon into small serving dishes.',\n",
       "    'Top with whipped topping and a few fresh berries.']],\n",
       "  ['Yogurt parfait',\n",
       "   'Creamy strawberry parfait',\n",
       "   'Low fat yogurt parfait',\n",
       "   'Yogurt with berry crunch'],\n",
       "  [[True, 0.7222222222222222],\n",
       "   [True, 0.5370370370370371],\n",
       "   [True, 0.7209302325581395],\n",
       "   [True, 0.6666666666666666]]],\n",
       " ['http://assets.epicurious.com/photos/5609a4d662fa7a9917c25748/master/pass/351294_hires.jpg',\n",
       "  [['pepper', 'oil', 'salt', 'clove', 'onion', 'parsley'],\n",
       "   ['pepper', 'oil', 'salt', 'clove', 'onion', 'parsley'],\n",
       "   ['pepper', 'oil', 'salt', 'clove', 'onion', 'parsley'],\n",
       "   ['pepper', 'oil', 'salt', 'clove', 'onion', 'parsley']],\n",
       "  [['Preheat oven to 400 degrees f.',\n",
       "    'Season pork with salt and pepper.',\n",
       "    'Heat olive oil in a large skillet over medium-high heat.',\n",
       "    'Add pork and cook until browned on all sides, about 5 minutes.',\n",
       "    'Transfer pork to a baking dish.',\n",
       "    'Add fennel and garlic to skillet and cook until fennel is tender, about 5 minutes.',\n",
       "    'Add wine and cook until reduced by half, about 5 minutes.',\n",
       "    'Add broth and bring to a boil.',\n",
       "    'Pour over pork and fennel.',\n",
       "    'Bake until pork is cooked through, about 30 minutes.',\n",
       "    'Remove pork from oven and let rest for 5 minutes.',\n",
       "    'Slice pork and serve with fennel and lemon wedges.'],\n",
       "   ['Cut pork into 2-inch cubes.',\n",
       "    'Season pork lightly with salt and pepper.',\n",
       "    'Heat butter and oil in a dutch oven over medium-high heat.',\n",
       "    'Brown pork in 2 batches, turning once, 6 to 8 minutes per batch.',\n",
       "    'Transfer pork to a plate and set aside.',\n",
       "    'Add fennel to dutch oven and cook, stirring occasionally, until golden brown, 3 to 5 minutes.',\n",
       "    'Add wine, broth, and garlic.',\n",
       "    'Increase heat to high and stir in lemon juice.',\n",
       "    'Return pork to pot and add fennel.',\n",
       "    'Bring sauce to a boil, reduce heat to medium, cover, simmer, stirring often, until pork is very tender and tender, 3 to 5 minutes.',\n",
       "    'Serve.'],\n",
       "   ['Season pork chops with salt, black pepper, and garlic powder',\n",
       "    'Heat grill pan and add pork chops when hot but not smoking sear on both sides for 3 to 4 minutes total.',\n",
       "    'Place chops on a foil lined baking dish.',\n",
       "    'In a small saucepan over medium-low heat, heat the oil and fennel.',\n",
       "    'Saute until fennel softens, 10 to 15 minutes; add garlic and saute for 1 minute.',\n",
       "    'Stir in white wine and cook for 1 minute.',\n",
       "    'Pour in chicken broth, cover pan, and cook until liquid is reduced by half, 15 to 20 minutes.',\n",
       "    'Add lemon juice and butter and stir until butter melts.',\n",
       "    'Spoon sauce over pork chops.',\n",
       "    'Grill pork chops until done, about 2 minutes per'],\n",
       "   ['Preheat oven to 450 degrees f.',\n",
       "    'Rub the pork all over with 1 tablespoon of the olive oil and season with salt and pepper.',\n",
       "    'Roast for 20 minutes.',\n",
       "    'Meanwhile, melt the butter in a dutch oven on high heat.',\n",
       "    'When butter is melted, add the fennel bulbs and saute for 2 minutes.',\n",
       "    'Reduce heat to medium and add the wine.',\n",
       "    'Cover and cook for 10 minutes, tossing occasionally.',\n",
       "    'Add the broth, garlic, and remaining 1/2 tablespoon of olive oil.',\n",
       "    'Bring to a simmer and then add the pork.',\n",
       "    'Cover, simmer on medium-low for 20 minutes.',\n",
       "    'Remove the pork to a plate; cover with foil and place a rack in the center.',\n",
       "    'Pour off any']],\n",
       "  ['Pork tenderloin with fennel and garlic',\n",
       "   'Braised pork with fennel and garlic',\n",
       "   'Grilled pork with fennel sauce',\n",
       "   'Roast pork with fennel and lemon'],\n",
       "  [[True, 0.44680851063829785],\n",
       "   [True, 0.47297297297297297],\n",
       "   [False, 0.5266666666666666],\n",
       "   [False, 0.48]]]]"
      ]
     },
     "execution_count": 34,
     "metadata": {},
     "output_type": "execute_result"
    }
   ],
   "source": [
    "info_all"
   ]
  },
  {
   "cell_type": "code",
   "execution_count": null,
   "metadata": {},
   "outputs": [],
   "source": [
    "generate_data = pd.DataFrame(info_all,columns = ['url','generate_ingre','generate_reci','generate_title','generate_score'])\n",
    "all_info = pd.merge(unpickled_df, generate_data , how='inner', on=['url'])\n",
    "all_info.to_pickle('ablation_1k.pkl')\n",
    "\n"
   ]
  },
  {
   "cell_type": "code",
   "execution_count": null,
   "metadata": {},
   "outputs": [],
   "source": [
    "#TODO3: Evaluation"
   ]
  },
  {
   "cell_type": "code",
   "execution_count": null,
   "metadata": {},
   "outputs": [],
   "source": [
    "generate_data.to_pickle('output/generate_1000_backup.pkl')"
   ]
  },
  {
   "cell_type": "code",
   "execution_count": 40,
   "metadata": {
    "scrolled": true
   },
   "outputs": [
    {
     "data": {
      "text/plain": [
       "[['Preheat oven to 350 degrees f (175 degrees c).',\n",
       "  'Grease a 9x13 inch baking dish.',\n",
       "  'In a large saucepan over medium heat, melt butter.',\n",
       "  'Stir in onion and cook until tender.',\n",
       "  'Stir in water, milk, and corn.',\n",
       "  'Bring to a boil, then reduce heat and simmer for 5 minutes.',\n",
       "  'Stir in potatoes and simmer for 10 minutes.',\n",
       "  'Pour into prepared baking dish.',\n",
       "  'Bake in preheated oven for 30 minutes, or until potatoes are tender.'],\n",
       " ['In a heavy saucepan combine the potatoes, water, and onion.',\n",
       "  'Bring to a boil; reduce heat, cover, and simmer for 20 minutes or until tender.',\n",
       "  'Mash potatoes with a potato masher, or mash with a potato masher.',\n",
       "  'Preheat oven to 350 degrees f (175 degrees c).',\n",
       "  'Stir in corn, butter and milk, then fold in cheese.',\n",
       "  'Pour soup into a 2-quart baking dish.',\n",
       "  'Sprinkle with cornflakes.',\n",
       "  'Bake in preheated oven 35 to 40 minutes, or until the edges are lightly browned.'],\n",
       " ['Peel and slice potatoes',\n",
       "  'Boil in water with the onion until done, drain and set aside',\n",
       "  'Preheat oven to 350f',\n",
       "  'Put a pot on to boil',\n",
       "  'Cut up bacon add to pot, add butter, and fry until brown',\n",
       "  'Add in potatoes and corn, and mix well together',\n",
       "  'In a greased 9x13 inch baking pan put a layer of potatoes',\n",
       "  'Add cheese sauce, and corn mix well',\n",
       "  'Cook for 45 min'],\n",
       " ['Combine all ingredients together in a small saucepan and bring to boil.',\n",
       "  'Reduce the heat and simmer uncovered 20 minutes.']]"
      ]
     },
     "execution_count": 40,
     "metadata": {},
     "output_type": "execute_result"
    }
   ],
   "source": []
  },
  {
   "cell_type": "code",
   "execution_count": null,
   "metadata": {},
   "outputs": [],
   "source": [
    "unpickled_df.iloc[0][\"ingredients\"]"
   ]
  },
  {
   "cell_type": "code",
   "execution_count": null,
   "metadata": {},
   "outputs": [],
   "source": []
  },
  {
   "cell_type": "code",
   "execution_count": 36,
   "metadata": {},
   "outputs": [
    {
     "data": {
      "text/html": [
       "<div>\n",
       "<style scoped>\n",
       "    .dataframe tbody tr th:only-of-type {\n",
       "        vertical-align: middle;\n",
       "    }\n",
       "\n",
       "    .dataframe tbody tr th {\n",
       "        vertical-align: top;\n",
       "    }\n",
       "\n",
       "    .dataframe thead th {\n",
       "        text-align: right;\n",
       "    }\n",
       "</style>\n",
       "<table border=\"1\" class=\"dataframe\">\n",
       "  <thead>\n",
       "    <tr style=\"text-align: right;\">\n",
       "      <th></th>\n",
       "      <th>id</th>\n",
       "      <th>ingredients</th>\n",
       "      <th>instructions</th>\n",
       "      <th>url</th>\n",
       "      <th>generate_ingre</th>\n",
       "      <th>generate_reci</th>\n",
       "      <th>generate_title</th>\n",
       "      <th>generate_score</th>\n",
       "    </tr>\n",
       "  </thead>\n",
       "  <tbody>\n",
       "    <tr>\n",
       "      <th>0</th>\n",
       "      <td>00003a70b1</td>\n",
       "      <td>[2 12 cups milk, 1 12 cups water, 14 cup butte...</td>\n",
       "      <td>[Preheat oven to 350 degrees Fahrenheit., Spra...</td>\n",
       "      <td>http://img.sndimg.com/food/image/upload/w_512,...</td>\n",
       "      <td>[[cheese, onion, pepper, potato, milk, salt, b...</td>\n",
       "      <td>[[Preheat oven to 350 degrees f (175 degrees c...</td>\n",
       "      <td>[Scalloped potatoes, Baked potato soup, Potato...</td>\n",
       "      <td>[[True, 0.5392156862745098], [True, 0.57142857...</td>\n",
       "    </tr>\n",
       "    <tr>\n",
       "      <th>1</th>\n",
       "      <td>000075604a</td>\n",
       "      <td>[2 Chicken thighs, 2 tsp Kombu tea, 1 White pe...</td>\n",
       "      <td>[Pierce the skin of the chicken with a fork or...</td>\n",
       "      <td>https://img-global.cpcdn.com/001_recipes/58069...</td>\n",
       "      <td>[[chicken, pepper, salt, lemon, oil, paprika, ...</td>\n",
       "      <td>[[Preheat oven to 350 degrees f (175 degrees c...</td>\n",
       "      <td>[Chicken drums - easy, Chicken in the crock po...</td>\n",
       "      <td>[[True, 0.6911764705882353], [True, 0.60377358...</td>\n",
       "    </tr>\n",
       "    <tr>\n",
       "      <th>2</th>\n",
       "      <td>00007bfd16</td>\n",
       "      <td>[6 -8 cups fresh rhubarb, or, 6 -8 cups frozen...</td>\n",
       "      <td>[Put ingredients in a buttered 9 x 12 x 2-inch...</td>\n",
       "      <td>http://img.sndimg.com/food/image/upload/w_512,...</td>\n",
       "      <td>[[sugar, egg, flour, rhubarb, salt, butter, ci...</td>\n",
       "      <td>[[Preheat oven to 350 degrees f (175 degrees c...</td>\n",
       "      <td>[Rhubarb dump cake, Rhubarb pie, Rhubarb dump ...</td>\n",
       "      <td>[[True, 0.5625], [True, 0.6352941176470588], [...</td>\n",
       "    </tr>\n",
       "    <tr>\n",
       "      <th>3</th>\n",
       "      <td>000095fc1d</td>\n",
       "      <td>[8 ounces, weight Light Fat Free Vanilla Yogur...</td>\n",
       "      <td>[Layer all ingredients in a serving dish.]</td>\n",
       "      <td>http://tastykitchen.com/recipes/wp-content/upl...</td>\n",
       "      <td>[[strawberries, yogurt, blueberries, banana, a...</td>\n",
       "      <td>[[Layer yogurt, strawberries and vanilla in pa...</td>\n",
       "      <td>[Yogurt parfait, Creamy strawberry parfait, Lo...</td>\n",
       "      <td>[[True, 0.7222222222222222], [True, 0.53703703...</td>\n",
       "    </tr>\n",
       "    <tr>\n",
       "      <th>4</th>\n",
       "      <td>0000b1e2b5</td>\n",
       "      <td>[1 teaspoon fennel seeds, 1 pound pork tenderl...</td>\n",
       "      <td>[Preheat oven to 350F with rack in middle., Cr...</td>\n",
       "      <td>http://assets.epicurious.com/photos/5609a4d662...</td>\n",
       "      <td>[[pepper, oil, salt, clove, onion, parsley], [...</td>\n",
       "      <td>[[Preheat oven to 400 degrees f., Season pork ...</td>\n",
       "      <td>[Pork tenderloin with fennel and garlic, Brais...</td>\n",
       "      <td>[[True, 0.44680851063829785], [True, 0.4729729...</td>\n",
       "    </tr>\n",
       "  </tbody>\n",
       "</table>\n",
       "</div>"
      ],
      "text/plain": [
       "           id                                        ingredients  \\\n",
       "0  00003a70b1  [2 12 cups milk, 1 12 cups water, 14 cup butte...   \n",
       "1  000075604a  [2 Chicken thighs, 2 tsp Kombu tea, 1 White pe...   \n",
       "2  00007bfd16  [6 -8 cups fresh rhubarb, or, 6 -8 cups frozen...   \n",
       "3  000095fc1d  [8 ounces, weight Light Fat Free Vanilla Yogur...   \n",
       "4  0000b1e2b5  [1 teaspoon fennel seeds, 1 pound pork tenderl...   \n",
       "\n",
       "                                        instructions  \\\n",
       "0  [Preheat oven to 350 degrees Fahrenheit., Spra...   \n",
       "1  [Pierce the skin of the chicken with a fork or...   \n",
       "2  [Put ingredients in a buttered 9 x 12 x 2-inch...   \n",
       "3         [Layer all ingredients in a serving dish.]   \n",
       "4  [Preheat oven to 350F with rack in middle., Cr...   \n",
       "\n",
       "                                                 url  \\\n",
       "0  http://img.sndimg.com/food/image/upload/w_512,...   \n",
       "1  https://img-global.cpcdn.com/001_recipes/58069...   \n",
       "2  http://img.sndimg.com/food/image/upload/w_512,...   \n",
       "3  http://tastykitchen.com/recipes/wp-content/upl...   \n",
       "4  http://assets.epicurious.com/photos/5609a4d662...   \n",
       "\n",
       "                                      generate_ingre  \\\n",
       "0  [[cheese, onion, pepper, potato, milk, salt, b...   \n",
       "1  [[chicken, pepper, salt, lemon, oil, paprika, ...   \n",
       "2  [[sugar, egg, flour, rhubarb, salt, butter, ci...   \n",
       "3  [[strawberries, yogurt, blueberries, banana, a...   \n",
       "4  [[pepper, oil, salt, clove, onion, parsley], [...   \n",
       "\n",
       "                                       generate_reci  \\\n",
       "0  [[Preheat oven to 350 degrees f (175 degrees c...   \n",
       "1  [[Preheat oven to 350 degrees f (175 degrees c...   \n",
       "2  [[Preheat oven to 350 degrees f (175 degrees c...   \n",
       "3  [[Layer yogurt, strawberries and vanilla in pa...   \n",
       "4  [[Preheat oven to 400 degrees f., Season pork ...   \n",
       "\n",
       "                                      generate_title  \\\n",
       "0  [Scalloped potatoes, Baked potato soup, Potato...   \n",
       "1  [Chicken drums - easy, Chicken in the crock po...   \n",
       "2  [Rhubarb dump cake, Rhubarb pie, Rhubarb dump ...   \n",
       "3  [Yogurt parfait, Creamy strawberry parfait, Lo...   \n",
       "4  [Pork tenderloin with fennel and garlic, Brais...   \n",
       "\n",
       "                                      generate_score  \n",
       "0  [[True, 0.5392156862745098], [True, 0.57142857...  \n",
       "1  [[True, 0.6911764705882353], [True, 0.60377358...  \n",
       "2  [[True, 0.5625], [True, 0.6352941176470588], [...  \n",
       "3  [[True, 0.7222222222222222], [True, 0.53703703...  \n",
       "4  [[True, 0.44680851063829785], [True, 0.4729729...  "
      ]
     },
     "execution_count": 36,
     "metadata": {},
     "output_type": "execute_result"
    }
   ],
   "source": [
    "pickle.load(open('ablation_1k.pkl', 'rb'))"
   ]
  },
  {
   "cell_type": "code",
   "execution_count": 11,
   "metadata": {},
   "outputs": [],
   "source": []
  },
  {
   "cell_type": "code",
   "execution_count": 50,
   "metadata": {},
   "outputs": [],
   "source": [
    "ablation_vocab = pickle.load(open(\"../data/recipe1m_vocab_ingrs.pkl\", \"rb\" ) )\n",
    "labels = [\"juice\", \"tomato\", \"beef\"]"
   ]
  },
  {
   "cell_type": "code",
   "execution_count": 51,
   "metadata": {},
   "outputs": [],
   "source": [
    "true_ingrs = get_true_ingre(ablation_vocab, labels).reshape(-1,20).cuda()"
   ]
  },
  {
   "cell_type": "code",
   "execution_count": null,
   "metadata": {},
   "outputs": [],
   "source": []
  },
  {
   "cell_type": "code",
   "execution_count": 52,
   "metadata": {},
   "outputs": [
    {
     "data": {
      "text/plain": [
       "tensor([[  22,  166,   20,    0, 1487, 1487, 1487, 1487, 1487, 1487, 1487, 1487,\n",
       "         1487, 1487, 1487, 1487, 1487, 1487, 1487, 1487]], device='cuda:0')"
      ]
     },
     "execution_count": 52,
     "metadata": {},
     "output_type": "execute_result"
    }
   ],
   "source": [
    "true_ingrs\n"
   ]
  },
  {
   "cell_type": "code",
   "execution_count": null,
   "metadata": {},
   "outputs": [],
   "source": [
    "input_mask = mask_from_eos(true_ingrs, eos_value=0, mult_before=False)"
   ]
  },
  {
   "cell_type": "code",
   "execution_count": null,
   "metadata": {},
   "outputs": [],
   "source": [
    "input_mask"
   ]
  }
 ],
 "metadata": {
  "kernelspec": {
   "display_name": "Python 3",
   "language": "python",
   "name": "python3"
  },
  "language_info": {
   "codemirror_mode": {
    "name": "ipython",
    "version": 3
   },
   "file_extension": ".py",
   "mimetype": "text/x-python",
   "name": "python",
   "nbconvert_exporter": "python",
   "pygments_lexer": "ipython3",
   "version": "3.7.6"
  }
 },
 "nbformat": 4,
 "nbformat_minor": 2
}
